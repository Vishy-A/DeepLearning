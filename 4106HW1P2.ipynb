{
  "nbformat": 4,
  "nbformat_minor": 0,
  "metadata": {
    "colab": {
      "provenance": [],
      "machine_shape": "hm",
      "gpuType": "A100",
      "include_colab_link": true
    },
    "kernelspec": {
      "name": "python3",
      "display_name": "Python 3"
    },
    "language_info": {
      "name": "python"
    },
    "accelerator": "GPU"
  },
  "cells": [
    {
      "cell_type": "markdown",
      "metadata": {
        "id": "view-in-github",
        "colab_type": "text"
      },
      "source": [
        "<a href=\"https://colab.research.google.com/github/Vishy-A/DeepLearning/blob/main/4106HW1P2.ipynb\" target=\"_parent\"><img src=\"https://colab.research.google.com/assets/colab-badge.svg\" alt=\"Open In Colab\"/></a>"
      ]
    },
    {
      "cell_type": "code",
      "execution_count": 296,
      "metadata": {
        "id": "MaGN4-OTjGr3"
      },
      "outputs": [],
      "source": [
        "import numpy as np\n",
        "import pandas as pd\n",
        "import torch\n",
        "import torch.nn as nn\n",
        "import torch.optim as optim\n",
        "import matplotlib.pyplot as plt\n",
        "from sklearn.preprocessing import PowerTransformer\n",
        "from sklearn.preprocessing import StandardScaler\n",
        "from torch.utils.data import DataLoader\n",
        "from torch.utils import data\n",
        "from tqdm.notebook import tqdm\n",
        "from sklearn.preprocessing import StandardScaler\n",
        "from sklearn.metrics import mean_squared_error\n",
        "from sklearn.model_selection import train_test_split"
      ]
    },
    {
      "cell_type": "code",
      "source": [
        "drive.mount('/content/drive')\n",
        "trainfilepath = '/content/drive/My Drive/4106DeepLearning/house-train.csv'\n",
        "testfilepath = '/content/drive/My Drive/4106DeepLearning/house-test.csv'\n",
        "\n",
        "df_train = pd.read_csv(trainfilepath)\n",
        "df_test = pd.read_csv(testfilepath)\n",
        "df_train.head()"
      ],
      "metadata": {
        "colab": {
          "base_uri": "https://localhost:8080/",
          "height": 274
        },
        "id": "0Zx8OdpzjKxH",
        "outputId": "b66e30b7-6d94-4a80-9d2c-89fb46f09a23"
      },
      "execution_count": 297,
      "outputs": [
        {
          "output_type": "stream",
          "name": "stdout",
          "text": [
            "Drive already mounted at /content/drive; to attempt to forcibly remount, call drive.mount(\"/content/drive\", force_remount=True).\n"
          ]
        },
        {
          "output_type": "execute_result",
          "data": {
            "text/plain": [
              "   Id  MSSubClass MSZoning  LotFrontage  LotArea Street Alley LotShape  \\\n",
              "0   1          60       RL         65.0     8450   Pave   NaN      Reg   \n",
              "1   2          20       RL         80.0     9600   Pave   NaN      Reg   \n",
              "2   3          60       RL         68.0    11250   Pave   NaN      IR1   \n",
              "3   4          70       RL         60.0     9550   Pave   NaN      IR1   \n",
              "4   5          60       RL         84.0    14260   Pave   NaN      IR1   \n",
              "\n",
              "  LandContour Utilities  ... PoolArea PoolQC Fence MiscFeature MiscVal MoSold  \\\n",
              "0         Lvl    AllPub  ...        0    NaN   NaN         NaN       0      2   \n",
              "1         Lvl    AllPub  ...        0    NaN   NaN         NaN       0      5   \n",
              "2         Lvl    AllPub  ...        0    NaN   NaN         NaN       0      9   \n",
              "3         Lvl    AllPub  ...        0    NaN   NaN         NaN       0      2   \n",
              "4         Lvl    AllPub  ...        0    NaN   NaN         NaN       0     12   \n",
              "\n",
              "  YrSold  SaleType  SaleCondition  SalePrice  \n",
              "0   2008        WD         Normal     208500  \n",
              "1   2007        WD         Normal     181500  \n",
              "2   2008        WD         Normal     223500  \n",
              "3   2006        WD        Abnorml     140000  \n",
              "4   2008        WD         Normal     250000  \n",
              "\n",
              "[5 rows x 81 columns]"
            ],
            "text/html": [
              "\n",
              "  <div id=\"df-98f52e18-e2d0-4cab-887d-dd29b0e2daaf\" class=\"colab-df-container\">\n",
              "    <div>\n",
              "<style scoped>\n",
              "    .dataframe tbody tr th:only-of-type {\n",
              "        vertical-align: middle;\n",
              "    }\n",
              "\n",
              "    .dataframe tbody tr th {\n",
              "        vertical-align: top;\n",
              "    }\n",
              "\n",
              "    .dataframe thead th {\n",
              "        text-align: right;\n",
              "    }\n",
              "</style>\n",
              "<table border=\"1\" class=\"dataframe\">\n",
              "  <thead>\n",
              "    <tr style=\"text-align: right;\">\n",
              "      <th></th>\n",
              "      <th>Id</th>\n",
              "      <th>MSSubClass</th>\n",
              "      <th>MSZoning</th>\n",
              "      <th>LotFrontage</th>\n",
              "      <th>LotArea</th>\n",
              "      <th>Street</th>\n",
              "      <th>Alley</th>\n",
              "      <th>LotShape</th>\n",
              "      <th>LandContour</th>\n",
              "      <th>Utilities</th>\n",
              "      <th>...</th>\n",
              "      <th>PoolArea</th>\n",
              "      <th>PoolQC</th>\n",
              "      <th>Fence</th>\n",
              "      <th>MiscFeature</th>\n",
              "      <th>MiscVal</th>\n",
              "      <th>MoSold</th>\n",
              "      <th>YrSold</th>\n",
              "      <th>SaleType</th>\n",
              "      <th>SaleCondition</th>\n",
              "      <th>SalePrice</th>\n",
              "    </tr>\n",
              "  </thead>\n",
              "  <tbody>\n",
              "    <tr>\n",
              "      <th>0</th>\n",
              "      <td>1</td>\n",
              "      <td>60</td>\n",
              "      <td>RL</td>\n",
              "      <td>65.0</td>\n",
              "      <td>8450</td>\n",
              "      <td>Pave</td>\n",
              "      <td>NaN</td>\n",
              "      <td>Reg</td>\n",
              "      <td>Lvl</td>\n",
              "      <td>AllPub</td>\n",
              "      <td>...</td>\n",
              "      <td>0</td>\n",
              "      <td>NaN</td>\n",
              "      <td>NaN</td>\n",
              "      <td>NaN</td>\n",
              "      <td>0</td>\n",
              "      <td>2</td>\n",
              "      <td>2008</td>\n",
              "      <td>WD</td>\n",
              "      <td>Normal</td>\n",
              "      <td>208500</td>\n",
              "    </tr>\n",
              "    <tr>\n",
              "      <th>1</th>\n",
              "      <td>2</td>\n",
              "      <td>20</td>\n",
              "      <td>RL</td>\n",
              "      <td>80.0</td>\n",
              "      <td>9600</td>\n",
              "      <td>Pave</td>\n",
              "      <td>NaN</td>\n",
              "      <td>Reg</td>\n",
              "      <td>Lvl</td>\n",
              "      <td>AllPub</td>\n",
              "      <td>...</td>\n",
              "      <td>0</td>\n",
              "      <td>NaN</td>\n",
              "      <td>NaN</td>\n",
              "      <td>NaN</td>\n",
              "      <td>0</td>\n",
              "      <td>5</td>\n",
              "      <td>2007</td>\n",
              "      <td>WD</td>\n",
              "      <td>Normal</td>\n",
              "      <td>181500</td>\n",
              "    </tr>\n",
              "    <tr>\n",
              "      <th>2</th>\n",
              "      <td>3</td>\n",
              "      <td>60</td>\n",
              "      <td>RL</td>\n",
              "      <td>68.0</td>\n",
              "      <td>11250</td>\n",
              "      <td>Pave</td>\n",
              "      <td>NaN</td>\n",
              "      <td>IR1</td>\n",
              "      <td>Lvl</td>\n",
              "      <td>AllPub</td>\n",
              "      <td>...</td>\n",
              "      <td>0</td>\n",
              "      <td>NaN</td>\n",
              "      <td>NaN</td>\n",
              "      <td>NaN</td>\n",
              "      <td>0</td>\n",
              "      <td>9</td>\n",
              "      <td>2008</td>\n",
              "      <td>WD</td>\n",
              "      <td>Normal</td>\n",
              "      <td>223500</td>\n",
              "    </tr>\n",
              "    <tr>\n",
              "      <th>3</th>\n",
              "      <td>4</td>\n",
              "      <td>70</td>\n",
              "      <td>RL</td>\n",
              "      <td>60.0</td>\n",
              "      <td>9550</td>\n",
              "      <td>Pave</td>\n",
              "      <td>NaN</td>\n",
              "      <td>IR1</td>\n",
              "      <td>Lvl</td>\n",
              "      <td>AllPub</td>\n",
              "      <td>...</td>\n",
              "      <td>0</td>\n",
              "      <td>NaN</td>\n",
              "      <td>NaN</td>\n",
              "      <td>NaN</td>\n",
              "      <td>0</td>\n",
              "      <td>2</td>\n",
              "      <td>2006</td>\n",
              "      <td>WD</td>\n",
              "      <td>Abnorml</td>\n",
              "      <td>140000</td>\n",
              "    </tr>\n",
              "    <tr>\n",
              "      <th>4</th>\n",
              "      <td>5</td>\n",
              "      <td>60</td>\n",
              "      <td>RL</td>\n",
              "      <td>84.0</td>\n",
              "      <td>14260</td>\n",
              "      <td>Pave</td>\n",
              "      <td>NaN</td>\n",
              "      <td>IR1</td>\n",
              "      <td>Lvl</td>\n",
              "      <td>AllPub</td>\n",
              "      <td>...</td>\n",
              "      <td>0</td>\n",
              "      <td>NaN</td>\n",
              "      <td>NaN</td>\n",
              "      <td>NaN</td>\n",
              "      <td>0</td>\n",
              "      <td>12</td>\n",
              "      <td>2008</td>\n",
              "      <td>WD</td>\n",
              "      <td>Normal</td>\n",
              "      <td>250000</td>\n",
              "    </tr>\n",
              "  </tbody>\n",
              "</table>\n",
              "<p>5 rows × 81 columns</p>\n",
              "</div>\n",
              "    <div class=\"colab-df-buttons\">\n",
              "\n",
              "  <div class=\"colab-df-container\">\n",
              "    <button class=\"colab-df-convert\" onclick=\"convertToInteractive('df-98f52e18-e2d0-4cab-887d-dd29b0e2daaf')\"\n",
              "            title=\"Convert this dataframe to an interactive table.\"\n",
              "            style=\"display:none;\">\n",
              "\n",
              "  <svg xmlns=\"http://www.w3.org/2000/svg\" height=\"24px\" viewBox=\"0 -960 960 960\">\n",
              "    <path d=\"M120-120v-720h720v720H120Zm60-500h600v-160H180v160Zm220 220h160v-160H400v160Zm0 220h160v-160H400v160ZM180-400h160v-160H180v160Zm440 0h160v-160H620v160ZM180-180h160v-160H180v160Zm440 0h160v-160H620v160Z\"/>\n",
              "  </svg>\n",
              "    </button>\n",
              "\n",
              "  <style>\n",
              "    .colab-df-container {\n",
              "      display:flex;\n",
              "      gap: 12px;\n",
              "    }\n",
              "\n",
              "    .colab-df-convert {\n",
              "      background-color: #E8F0FE;\n",
              "      border: none;\n",
              "      border-radius: 50%;\n",
              "      cursor: pointer;\n",
              "      display: none;\n",
              "      fill: #1967D2;\n",
              "      height: 32px;\n",
              "      padding: 0 0 0 0;\n",
              "      width: 32px;\n",
              "    }\n",
              "\n",
              "    .colab-df-convert:hover {\n",
              "      background-color: #E2EBFA;\n",
              "      box-shadow: 0px 1px 2px rgba(60, 64, 67, 0.3), 0px 1px 3px 1px rgba(60, 64, 67, 0.15);\n",
              "      fill: #174EA6;\n",
              "    }\n",
              "\n",
              "    .colab-df-buttons div {\n",
              "      margin-bottom: 4px;\n",
              "    }\n",
              "\n",
              "    [theme=dark] .colab-df-convert {\n",
              "      background-color: #3B4455;\n",
              "      fill: #D2E3FC;\n",
              "    }\n",
              "\n",
              "    [theme=dark] .colab-df-convert:hover {\n",
              "      background-color: #434B5C;\n",
              "      box-shadow: 0px 1px 3px 1px rgba(0, 0, 0, 0.15);\n",
              "      filter: drop-shadow(0px 1px 2px rgba(0, 0, 0, 0.3));\n",
              "      fill: #FFFFFF;\n",
              "    }\n",
              "  </style>\n",
              "\n",
              "    <script>\n",
              "      const buttonEl =\n",
              "        document.querySelector('#df-98f52e18-e2d0-4cab-887d-dd29b0e2daaf button.colab-df-convert');\n",
              "      buttonEl.style.display =\n",
              "        google.colab.kernel.accessAllowed ? 'block' : 'none';\n",
              "\n",
              "      async function convertToInteractive(key) {\n",
              "        const element = document.querySelector('#df-98f52e18-e2d0-4cab-887d-dd29b0e2daaf');\n",
              "        const dataTable =\n",
              "          await google.colab.kernel.invokeFunction('convertToInteractive',\n",
              "                                                    [key], {});\n",
              "        if (!dataTable) return;\n",
              "\n",
              "        const docLinkHtml = 'Like what you see? Visit the ' +\n",
              "          '<a target=\"_blank\" href=https://colab.research.google.com/notebooks/data_table.ipynb>data table notebook</a>'\n",
              "          + ' to learn more about interactive tables.';\n",
              "        element.innerHTML = '';\n",
              "        dataTable['output_type'] = 'display_data';\n",
              "        await google.colab.output.renderOutput(dataTable, element);\n",
              "        const docLink = document.createElement('div');\n",
              "        docLink.innerHTML = docLinkHtml;\n",
              "        element.appendChild(docLink);\n",
              "      }\n",
              "    </script>\n",
              "  </div>\n",
              "\n",
              "\n",
              "<div id=\"df-68b71825-b377-45fb-b136-288114e4ed38\">\n",
              "  <button class=\"colab-df-quickchart\" onclick=\"quickchart('df-68b71825-b377-45fb-b136-288114e4ed38')\"\n",
              "            title=\"Suggest charts\"\n",
              "            style=\"display:none;\">\n",
              "\n",
              "<svg xmlns=\"http://www.w3.org/2000/svg\" height=\"24px\"viewBox=\"0 0 24 24\"\n",
              "     width=\"24px\">\n",
              "    <g>\n",
              "        <path d=\"M19 3H5c-1.1 0-2 .9-2 2v14c0 1.1.9 2 2 2h14c1.1 0 2-.9 2-2V5c0-1.1-.9-2-2-2zM9 17H7v-7h2v7zm4 0h-2V7h2v10zm4 0h-2v-4h2v4z\"/>\n",
              "    </g>\n",
              "</svg>\n",
              "  </button>\n",
              "\n",
              "<style>\n",
              "  .colab-df-quickchart {\n",
              "      --bg-color: #E8F0FE;\n",
              "      --fill-color: #1967D2;\n",
              "      --hover-bg-color: #E2EBFA;\n",
              "      --hover-fill-color: #174EA6;\n",
              "      --disabled-fill-color: #AAA;\n",
              "      --disabled-bg-color: #DDD;\n",
              "  }\n",
              "\n",
              "  [theme=dark] .colab-df-quickchart {\n",
              "      --bg-color: #3B4455;\n",
              "      --fill-color: #D2E3FC;\n",
              "      --hover-bg-color: #434B5C;\n",
              "      --hover-fill-color: #FFFFFF;\n",
              "      --disabled-bg-color: #3B4455;\n",
              "      --disabled-fill-color: #666;\n",
              "  }\n",
              "\n",
              "  .colab-df-quickchart {\n",
              "    background-color: var(--bg-color);\n",
              "    border: none;\n",
              "    border-radius: 50%;\n",
              "    cursor: pointer;\n",
              "    display: none;\n",
              "    fill: var(--fill-color);\n",
              "    height: 32px;\n",
              "    padding: 0;\n",
              "    width: 32px;\n",
              "  }\n",
              "\n",
              "  .colab-df-quickchart:hover {\n",
              "    background-color: var(--hover-bg-color);\n",
              "    box-shadow: 0 1px 2px rgba(60, 64, 67, 0.3), 0 1px 3px 1px rgba(60, 64, 67, 0.15);\n",
              "    fill: var(--button-hover-fill-color);\n",
              "  }\n",
              "\n",
              "  .colab-df-quickchart-complete:disabled,\n",
              "  .colab-df-quickchart-complete:disabled:hover {\n",
              "    background-color: var(--disabled-bg-color);\n",
              "    fill: var(--disabled-fill-color);\n",
              "    box-shadow: none;\n",
              "  }\n",
              "\n",
              "  .colab-df-spinner {\n",
              "    border: 2px solid var(--fill-color);\n",
              "    border-color: transparent;\n",
              "    border-bottom-color: var(--fill-color);\n",
              "    animation:\n",
              "      spin 1s steps(1) infinite;\n",
              "  }\n",
              "\n",
              "  @keyframes spin {\n",
              "    0% {\n",
              "      border-color: transparent;\n",
              "      border-bottom-color: var(--fill-color);\n",
              "      border-left-color: var(--fill-color);\n",
              "    }\n",
              "    20% {\n",
              "      border-color: transparent;\n",
              "      border-left-color: var(--fill-color);\n",
              "      border-top-color: var(--fill-color);\n",
              "    }\n",
              "    30% {\n",
              "      border-color: transparent;\n",
              "      border-left-color: var(--fill-color);\n",
              "      border-top-color: var(--fill-color);\n",
              "      border-right-color: var(--fill-color);\n",
              "    }\n",
              "    40% {\n",
              "      border-color: transparent;\n",
              "      border-right-color: var(--fill-color);\n",
              "      border-top-color: var(--fill-color);\n",
              "    }\n",
              "    60% {\n",
              "      border-color: transparent;\n",
              "      border-right-color: var(--fill-color);\n",
              "    }\n",
              "    80% {\n",
              "      border-color: transparent;\n",
              "      border-right-color: var(--fill-color);\n",
              "      border-bottom-color: var(--fill-color);\n",
              "    }\n",
              "    90% {\n",
              "      border-color: transparent;\n",
              "      border-bottom-color: var(--fill-color);\n",
              "    }\n",
              "  }\n",
              "</style>\n",
              "\n",
              "  <script>\n",
              "    async function quickchart(key) {\n",
              "      const quickchartButtonEl =\n",
              "        document.querySelector('#' + key + ' button');\n",
              "      quickchartButtonEl.disabled = true;  // To prevent multiple clicks.\n",
              "      quickchartButtonEl.classList.add('colab-df-spinner');\n",
              "      try {\n",
              "        const charts = await google.colab.kernel.invokeFunction(\n",
              "            'suggestCharts', [key], {});\n",
              "      } catch (error) {\n",
              "        console.error('Error during call to suggestCharts:', error);\n",
              "      }\n",
              "      quickchartButtonEl.classList.remove('colab-df-spinner');\n",
              "      quickchartButtonEl.classList.add('colab-df-quickchart-complete');\n",
              "    }\n",
              "    (() => {\n",
              "      let quickchartButtonEl =\n",
              "        document.querySelector('#df-68b71825-b377-45fb-b136-288114e4ed38 button');\n",
              "      quickchartButtonEl.style.display =\n",
              "        google.colab.kernel.accessAllowed ? 'block' : 'none';\n",
              "    })();\n",
              "  </script>\n",
              "</div>\n",
              "\n",
              "    </div>\n",
              "  </div>\n"
            ]
          },
          "metadata": {},
          "execution_count": 297
        }
      ]
    },
    {
      "cell_type": "code",
      "source": [
        "device = torch.device(\"cuda\" if torch.cuda.is_available() else \"cpu\")"
      ],
      "metadata": {
        "id": "cV0GgDF3jMb2"
      },
      "execution_count": 298,
      "outputs": []
    },
    {
      "cell_type": "code",
      "source": [
        "if torch.cuda.is_available():\n",
        "    device = torch.device(\"cuda\")\n",
        "    print(\"CUDA (GPU) is available.\")\n",
        "else:\n",
        "    device = torch.device(\"cpu\")\n",
        "    print(\"CUDA (GPU) is not available. Using CPU.\")"
      ],
      "metadata": {
        "colab": {
          "base_uri": "https://localhost:8080/"
        },
        "id": "2x4EH6ZSjNtA",
        "outputId": "6d78a921-bbee-4540-fe46-58e775ccb1ac"
      },
      "execution_count": 299,
      "outputs": [
        {
          "output_type": "stream",
          "name": "stdout",
          "text": [
            "CUDA (GPU) is available.\n"
          ]
        }
      ]
    },
    {
      "cell_type": "code",
      "source": [
        "pd.options.display.max_rows=90\n",
        "df_dtype = pd.DataFrame(df_train.dtypes,columns=['dtype'])\n"
      ],
      "metadata": {
        "id": "4RKv2xpvjPfO"
      },
      "execution_count": 300,
      "outputs": []
    },
    {
      "cell_type": "code",
      "source": [
        "usefull_cols = ['OverallQual', 'GrLivArea', 'GarageArea', 'TotalBsmtSF'\n",
        "                , 'FullBath', 'YearBuilt', 'YearRemodAdd', 'Fireplaces'\n",
        "                ,'LotFrontage','WoodDeckSF','OpenPorchSF'\n",
        "                ,'ExterQual','Neighborhood','MSZoning'\n",
        "                ,'Alley','LotShape','LandContour','Condition1','HouseStyle','MasVnrType','SaleCondition',]\n",
        "df_train_prepro = df_train[usefull_cols].copy()\n",
        "df_test_prepro = df_test[usefull_cols].copy()"
      ],
      "metadata": {
        "id": "MrX0iPucpvBG"
      },
      "execution_count": 301,
      "outputs": []
    },
    {
      "cell_type": "code",
      "source": [
        "# Remove Nulls\n",
        "## GarageArea in test data\n",
        "df_test_prepro['GarageArea'] = df_test_prepro['GarageArea'].fillna(df_train_prepro['GarageArea'].mean())\n",
        "## TotalBsmtSF in test data\n",
        "df_test_prepro['TotalBsmtSF'] = df_test_prepro['TotalBsmtSF'].fillna(df_train_prepro['TotalBsmtSF'].mean())"
      ],
      "metadata": {
        "id": "nBYCs4aXp5-V"
      },
      "execution_count": 302,
      "outputs": []
    },
    {
      "cell_type": "code",
      "source": [
        "# One-hot encoding\n",
        "df_train_prepro = pd.get_dummies(df_train_prepro,columns=['Neighborhood','MSZoning','Alley','LotShape','LandContour','Condition1','HouseStyle','MasVnrType','SaleCondition',])\n",
        "df_test_prepro = pd.get_dummies(df_test_prepro,columns=['Neighborhood','MSZoning','Alley','LotShape','LandContour','Condition1','HouseStyle','MasVnrType','SaleCondition'])\n"
      ],
      "metadata": {
        "id": "e9MdK6zaxke_"
      },
      "execution_count": 303,
      "outputs": []
    },
    {
      "cell_type": "code",
      "source": [
        "df_train_prepro = df_train_prepro.replace({True: 1, False: 0})\n",
        "df_test_prepro = df_test_prepro.replace({True: 1, False: 0})"
      ],
      "metadata": {
        "id": "K3GhwFd9yPeQ"
      },
      "execution_count": 304,
      "outputs": []
    },
    {
      "cell_type": "code",
      "source": [
        "df_train_prepro = df_train_prepro.apply(pd.to_numeric, errors='coerce').fillna(0)\n",
        "df_test_prepro = df_test_prepro.apply(pd.to_numeric, errors='coerce').fillna(0)\n"
      ],
      "metadata": {
        "id": "yhnIBawM3nVr"
      },
      "execution_count": 305,
      "outputs": []
    },
    {
      "cell_type": "code",
      "source": [
        "x = df_train_prepro.values\n",
        "y = df_train['SalePrice'].values"
      ],
      "metadata": {
        "id": "I05PbEqtBLFA"
      },
      "execution_count": 306,
      "outputs": []
    },
    {
      "cell_type": "code",
      "source": [
        "xtrain, xtest, ytrain, ytest = train_test_split(x, y, test_size=0.2, random_state=42)\n",
        "\n",
        "\n",
        "xtrain = pd.DataFrame(xtrain)\n",
        "xtest = pd.DataFrame(xtest)\n",
        "ytrain = pd.DataFrame(ytrain)\n",
        "ytest = pd.DataFrame(ytest)\n",
        "\n",
        "\n",
        "xtrain = xtrain.astype(float)\n",
        "xtest = xtest.astype(float)\n",
        "ytrain = ytrain.astype(float)\n",
        "ytest = ytest.astype(float)\n",
        "\n",
        "xtrain = torch.FloatTensor(xtrain.values)\n",
        "ytrain = torch.FloatTensor(ytrain.values).reshape(-1, 1)\n",
        "xtest = torch.FloatTensor(xtest.values)\n",
        "ytest = torch.FloatTensor(ytest.values).reshape(-1, 1)\n",
        "\n"
      ],
      "metadata": {
        "id": "4ImU36hH3ri9"
      },
      "execution_count": 308,
      "outputs": []
    },
    {
      "cell_type": "code",
      "source": [
        "train_dataloader = DataLoader(list(zip(xtrain, ytrain)), batch_size=128, shuffle=True)\n",
        "test_dataloader = DataLoader(list(zip(xtest, ytest)), batch_size=128, shuffle=False)"
      ],
      "metadata": {
        "id": "3sxQJQBT6_Oc"
      },
      "execution_count": 309,
      "outputs": []
    },
    {
      "cell_type": "code",
      "source": [
        "class Network(nn.Module):\n",
        "    def __init__(self, input_size):\n",
        "        super(Network, self).__init__()\n",
        "        self.fc1 = nn.Linear(input_size, 64)\n",
        "        self.relu1 = nn.ReLU()\n",
        "        self.fc2 = nn.Linear(64, 32)\n",
        "        self.relu2 = nn.ReLU()\n",
        "        self.fc3 = nn.Linear(32, 1)\n",
        "\n",
        "    def forward(self, x):\n",
        "        x = self.relu1(self.fc1(x))\n",
        "        x = self.relu2(self.fc2(x))\n",
        "        x = self.fc3(x)\n",
        "        return x"
      ],
      "metadata": {
        "id": "4wUZKaXG9cAH"
      },
      "execution_count": 310,
      "outputs": []
    },
    {
      "cell_type": "code",
      "source": [
        "model = Network(input_size=xtrain.shape[1])\n",
        "criterion = nn.MSELoss()\n",
        "optimizer = optim.Adam(model.parameters(), lr=0.001)"
      ],
      "metadata": {
        "id": "OeSuYT5999Jp"
      },
      "execution_count": 311,
      "outputs": []
    },
    {
      "cell_type": "code",
      "source": [
        "train_dataloader = DataLoader(list(zip(xtrain, ytrain)), batch_size=128, shuffle=True)\n",
        "test_dataloader = DataLoader(list(zip(xtest, ytest)), batch_size=128, shuffle=False)"
      ],
      "metadata": {
        "id": "iNPcFC9x_BXH"
      },
      "execution_count": 312,
      "outputs": []
    },
    {
      "cell_type": "code",
      "source": [
        "model = Network(input_size=xtrain.shape[1])\n",
        "model.to(device)\n",
        "\n",
        "train_loss = []\n",
        "val_loss = []"
      ],
      "metadata": {
        "id": "4yv8hZRJ_C04"
      },
      "execution_count": 315,
      "outputs": []
    },
    {
      "cell_type": "code",
      "source": [
        "for epoch in range(100):\n",
        "    for x, y in train_dataloader:\n",
        "        x = x.to(device)\n",
        "        y = y.to(device)\n",
        "\n",
        "        optimizer.zero_grad()\n",
        "        output = model(x)\n",
        "        loss = criterion(output, y)\n",
        "        loss.backward()\n",
        "        optimizer.step()\n",
        "\n",
        "        train_loss.append(loss.item())\n",
        "\n",
        "\n",
        "    with torch.no_grad():\n",
        "        for x, y in test_dataloader:\n",
        "            x = x.to(device)\n",
        "            y = y.to(device)\n",
        "\n",
        "            output = model(x)\n",
        "            loss = criterion(output, y)\n",
        "            val_loss.append(loss.item())\n",
        "\n",
        "\n",
        "    print(f\"Epoch {epoch+1}: Train Loss: {np.mean(train_loss):.4f}, Val Loss: {np.mean(val_loss):.4f}\")"
      ],
      "metadata": {
        "colab": {
          "base_uri": "https://localhost:8080/"
        },
        "id": "RPAri5KN_Cyd",
        "outputId": "99dc3028-9417-47e9-c9d7-f65ab654161b"
      },
      "execution_count": 316,
      "outputs": [
        {
          "output_type": "stream",
          "name": "stdout",
          "text": [
            "Epoch 1: Train Loss: 38219550515.2000, Val Loss: 40427178666.6667\n",
            "Epoch 2: Train Loss: 38524288716.8000, Val Loss: 40427178666.6667\n",
            "Epoch 3: Train Loss: 40002712576.0000, Val Loss: 40427178666.6667\n",
            "Epoch 4: Train Loss: 39400756019.2000, Val Loss: 40427178666.6667\n",
            "Epoch 5: Train Loss: 39506720522.2400, Val Loss: 40427178666.6667\n",
            "Epoch 6: Train Loss: 39329747046.4000, Val Loss: 40427178666.6667\n",
            "Epoch 7: Train Loss: 39196584374.8571, Val Loss: 40427178666.6667\n",
            "Epoch 8: Train Loss: 39188950144.0000, Val Loss: 40427178666.6667\n",
            "Epoch 9: Train Loss: 39176023654.4000, Val Loss: 40427178666.6667\n",
            "Epoch 10: Train Loss: 39161428336.6400, Val Loss: 40427178666.6667\n",
            "Epoch 11: Train Loss: 39132330058.4727, Val Loss: 40427178666.6667\n",
            "Epoch 12: Train Loss: 39229942254.9333, Val Loss: 40427178666.6667\n",
            "Epoch 13: Train Loss: 39215734831.2615, Val Loss: 40427178666.6667\n",
            "Epoch 14: Train Loss: 39164808528.4571, Val Loss: 40427178666.6667\n",
            "Epoch 15: Train Loss: 39152387112.9600, Val Loss: 40427178666.6667\n",
            "Epoch 16: Train Loss: 39161010726.4000, Val Loss: 40427178666.6667\n",
            "Epoch 17: Train Loss: 39245595334.7765, Val Loss: 40427178666.6667\n",
            "Epoch 18: Train Loss: 39335299151.6444, Val Loss: 40427178666.6667\n",
            "Epoch 19: Train Loss: 39350674432.0000, Val Loss: 40427178666.6667\n",
            "Epoch 20: Train Loss: 39307172300.8000, Val Loss: 40427178666.6667\n",
            "Epoch 21: Train Loss: 39262512566.8571, Val Loss: 40427178666.6667\n",
            "Epoch 22: Train Loss: 39220620315.9273, Val Loss: 40427178666.6667\n",
            "Epoch 23: Train Loss: 39166388179.4783, Val Loss: 40427178666.6667\n",
            "Epoch 24: Train Loss: 39114011315.2000, Val Loss: 40427178666.6667\n",
            "Epoch 25: Train Loss: 39099517984.7680, Val Loss: 40427178666.6667\n",
            "Epoch 26: Train Loss: 39120956219.0769, Val Loss: 40427178666.6667\n",
            "Epoch 27: Train Loss: 39076921017.8370, Val Loss: 40427178666.6667\n",
            "Epoch 28: Train Loss: 39036148070.4000, Val Loss: 40427178666.6667\n",
            "Epoch 29: Train Loss: 39050141441.7655, Val Loss: 40427178666.6667\n",
            "Epoch 30: Train Loss: 39053505003.5200, Val Loss: 40427178666.6667\n",
            "Epoch 31: Train Loss: 39089562194.5806, Val Loss: 40427178666.6667\n",
            "Epoch 32: Train Loss: 39093885849.6000, Val Loss: 40427178666.6667\n",
            "Epoch 33: Train Loss: 39059122213.2364, Val Loss: 40427178666.6667\n",
            "Epoch 34: Train Loss: 39033299148.8000, Val Loss: 40427178666.6667\n",
            "Epoch 35: Train Loss: 39016944961.8286, Val Loss: 40427178666.6667\n",
            "Epoch 36: Train Loss: 38993764272.3556, Val Loss: 40427178666.6667\n",
            "Epoch 37: Train Loss: 38989306016.5189, Val Loss: 40427178666.6667\n",
            "Epoch 38: Train Loss: 39010971480.9263, Val Loss: 40427178666.6667\n",
            "Epoch 39: Train Loss: 39030705955.4462, Val Loss: 40427178666.6667\n",
            "Epoch 40: Train Loss: 39012206192.6400, Val Loss: 40427178666.6667\n",
            "Epoch 41: Train Loss: 39023512091.4732, Val Loss: 40427178666.6667\n",
            "Epoch 42: Train Loss: 39016750723.6571, Val Loss: 40427178666.6667\n",
            "Epoch 43: Train Loss: 39001434573.9907, Val Loss: 40427178666.6667\n",
            "Epoch 44: Train Loss: 39028483058.0364, Val Loss: 40427178666.6667\n",
            "Epoch 45: Train Loss: 39018611748.4089, Val Loss: 40427178666.6667\n",
            "Epoch 46: Train Loss: 38995328155.8261, Val Loss: 40427178666.6667\n",
            "Epoch 47: Train Loss: 39029062961.0213, Val Loss: 40427178666.6667\n",
            "Epoch 48: Train Loss: 39048779609.6000, Val Loss: 40427178666.6667\n",
            "Epoch 49: Train Loss: 39047385075.4612, Val Loss: 40427178666.6667\n",
            "Epoch 50: Train Loss: 39055156785.1520, Val Loss: 40427178666.6667\n",
            "Epoch 51: Train Loss: 39035795066.4784, Val Loss: 40427178666.6667\n",
            "Epoch 52: Train Loss: 39019424307.2000, Val Loss: 40427178666.6667\n",
            "Epoch 53: Train Loss: 39028858319.6981, Val Loss: 40427178666.6667\n",
            "Epoch 54: Train Loss: 39032337825.1852, Val Loss: 40427178666.6667\n",
            "Epoch 55: Train Loss: 39013600483.1418, Val Loss: 40427178666.6667\n",
            "Epoch 56: Train Loss: 39009017965.7143, Val Loss: 40427178666.6667\n",
            "Epoch 57: Train Loss: 38983053329.9649, Val Loss: 40427178666.6667\n",
            "Epoch 58: Train Loss: 38992176046.7862, Val Loss: 40427178666.6667\n",
            "Epoch 59: Train Loss: 38979251373.5593, Val Loss: 40427178666.6667\n",
            "Epoch 60: Train Loss: 38964722664.1067, Val Loss: 40427178666.6667\n",
            "Epoch 61: Train Loss: 38979111952.7869, Val Loss: 40427178666.6667\n",
            "Epoch 62: Train Loss: 38975169106.5806, Val Loss: 40427178666.6667\n",
            "Epoch 63: Train Loss: 38961866670.7302, Val Loss: 40427178666.6667\n",
            "Epoch 64: Train Loss: 38962485667.2000, Val Loss: 40427178666.6667\n",
            "Epoch 65: Train Loss: 38948464098.0677, Val Loss: 40427178666.6667\n",
            "Epoch 66: Train Loss: 38949016420.8485, Val Loss: 40427178666.6667\n",
            "Epoch 67: Train Loss: 38938140650.6030, Val Loss: 40427178666.6667\n",
            "Epoch 68: Train Loss: 38920724531.2000, Val Loss: 40427178666.6667\n",
            "Epoch 69: Train Loss: 38928318182.0290, Val Loss: 40427178666.6667\n",
            "Epoch 70: Train Loss: 38928557544.5943, Val Loss: 40427178666.6667\n",
            "Epoch 71: Train Loss: 38920445363.5606, Val Loss: 40427178666.6667\n",
            "Epoch 72: Train Loss: 38924207906.1333, Val Loss: 40427178666.6667\n",
            "Epoch 73: Train Loss: 38923269874.6740, Val Loss: 40427178666.6667\n",
            "Epoch 74: Train Loss: 38907895464.8216, Val Loss: 40427178666.6667\n",
            "Epoch 75: Train Loss: 38910963796.6507, Val Loss: 40427178666.6667\n",
            "Epoch 76: Train Loss: 38901277491.2000, Val Loss: 40427178666.6667\n",
            "Epoch 77: Train Loss: 38909907957.3610, Val Loss: 40427178666.6667\n",
            "Epoch 78: Train Loss: 38902169736.5333, Val Loss: 40427178666.6667\n",
            "Epoch 79: Train Loss: 38893625030.3190, Val Loss: 40427178666.6667\n",
            "Epoch 80: Train Loss: 38908400924.1600, Val Loss: 40427178666.6667\n",
            "Epoch 81: Train Loss: 38909742661.5309, Val Loss: 40427178666.6667\n",
            "Epoch 82: Train Loss: 38895653997.8927, Val Loss: 40427178666.6667\n",
            "Epoch 83: Train Loss: 38893127689.8699, Val Loss: 40427178666.6667\n",
            "Epoch 84: Train Loss: 38898625852.9524, Val Loss: 40427178666.6667\n",
            "Epoch 85: Train Loss: 38894923669.9859, Val Loss: 40427178666.6667\n",
            "Epoch 86: Train Loss: 38890903990.1767, Val Loss: 40427178666.6667\n",
            "Epoch 87: Train Loss: 38899928353.5448, Val Loss: 40427178666.6667\n",
            "Epoch 88: Train Loss: 38891410799.7091, Val Loss: 40427178666.6667\n",
            "Epoch 89: Train Loss: 38881021192.6292, Val Loss: 40427178666.6667\n",
            "Epoch 90: Train Loss: 38879070410.5244, Val Loss: 40427178666.6667\n",
            "Epoch 91: Train Loss: 38880349881.6703, Val Loss: 40427178666.6667\n",
            "Epoch 92: Train Loss: 38872398583.0956, Val Loss: 40427178666.6667\n",
            "Epoch 93: Train Loss: 38864964152.1548, Val Loss: 40427178666.6667\n",
            "Epoch 94: Train Loss: 38861997953.6340, Val Loss: 40427178666.6667\n",
            "Epoch 95: Train Loss: 38876119242.6442, Val Loss: 40427178666.6667\n",
            "Epoch 96: Train Loss: 38871528480.0000, Val Loss: 40427178666.6667\n",
            "Epoch 97: Train Loss: 38866868327.4557, Val Loss: 40427178666.6667\n",
            "Epoch 98: Train Loss: 38863221893.7469, Val Loss: 40427178666.6667\n",
            "Epoch 99: Train Loss: 38848909413.3657, Val Loss: 40427178666.6667\n",
            "Epoch 100: Train Loss: 38857145473.0240, Val Loss: 40427178666.6667\n"
          ]
        }
      ]
    },
    {
      "cell_type": "code",
      "source": [
        "y_pred = model(xtest.to(device))\n",
        "accuracy = 100 * torch.mean((torch.abs(y_pred - ytest.to(device)) / ytest.to(device)) * 100)\n",
        "print(f\"Final Accuracy: {accuracy:.2f}%\")\n"
      ],
      "metadata": {
        "colab": {
          "base_uri": "https://localhost:8080/"
        },
        "id": "L2sxYuS6_Cuk",
        "outputId": "9f94a97c-f78c-4da3-c9ca-bf0380592c08"
      },
      "execution_count": 317,
      "outputs": [
        {
          "output_type": "stream",
          "name": "stdout",
          "text": [
            "Final Accuracy: 9995.85%\n"
          ]
        }
      ]
    },
    {
      "cell_type": "code",
      "source": [
        "model_complexity = sum(p.numel() for p in model.parameters())\n",
        "print(f\"Model Complexity: {model_complexity}\")"
      ],
      "metadata": {
        "colab": {
          "base_uri": "https://localhost:8080/"
        },
        "id": "G8jd5toQ_6rR",
        "outputId": "3eb6f429-6bf7-4c47-af6b-b1909e99ad80"
      },
      "execution_count": 318,
      "outputs": [
        {
          "output_type": "stream",
          "name": "stdout",
          "text": [
            "Model Complexity: 7233\n"
          ]
        }
      ]
    },
    {
      "cell_type": "code",
      "source": [
        "\n",
        "\n",
        "plt.plot(train_loss, label=\"Train Loss\")\n",
        "plt.plot(val_loss, label=\"Validation Loss\")\n",
        "plt.xlabel(\"Epoch\")\n",
        "plt.ylabel(\"Loss\")\n",
        "plt.legend()\n",
        "plt.show()"
      ],
      "metadata": {
        "colab": {
          "base_uri": "https://localhost:8080/",
          "height": 465
        },
        "id": "nx3sFRJH_Vxg",
        "outputId": "bf761f9d-ca2a-4760-b474-a055ecc8b5c5"
      },
      "execution_count": 319,
      "outputs": [
        {
          "output_type": "display_data",
          "data": {
            "text/plain": [
              "<Figure size 640x480 with 1 Axes>"
            ],
            "image/png": "[encoded data removed]"
          },
          "metadata": {}
        }
      ]
    }
  ]
}