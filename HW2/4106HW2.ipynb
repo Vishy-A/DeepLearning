{
  "nbformat": 4,
  "nbformat_minor": 0,
  "metadata": {
    "colab": {
      "provenance": [],
      "gpuType": "T4",
      "authorship_tag": "ABX9TyPfHI4jxF+Fzr7tmKymF80n",
      "include_colab_link": true
    },
    "kernelspec": {
      "name": "python3",
      "display_name": "Python 3"
    },
    "language_info": {
      "name": "python"
    },
    "accelerator": "GPU"
  },
  "cells": [
    {
      "cell_type": "markdown",
      "metadata": {
        "id": "view-in-github",
        "colab_type": "text"
      },
      "source": [
        "<a href=\"https://colab.research.google.com/github/Vishy-A/DeepLearning/blob/main/HW2/4106HW2.ipynb\" target=\"_parent\"><img src=\"https://colab.research.google.com/assets/colab-badge.svg\" alt=\"Open In Colab\"/></a>"
      ]
    },
    {
      "cell_type": "code",
      "execution_count": 10,
      "metadata": {
        "id": "jXcwzAq9DNAQ"
      },
      "outputs": [],
      "source": [
        "import torch\n",
        "import torch.nn as nn\n",
        "import torch.optim as optim\n",
        "from torchvision import datasets, transforms\n",
        "import matplotlib.pyplot as plt\n",
        "import numpy as np"
      ]
    },
    {
      "cell_type": "code",
      "source": [
        "\n",
        "if torch.cuda.is_available():\n",
        "    device = torch.device(\"cuda\")\n",
        "    print(\"CUDA (GPU) is available.\")\n",
        "else:\n",
        "    device = torch.device(\"cpu\")\n",
        "    print(\"CUDA (GPU) is not available. Using CPU.\")\n",
        ""
      ],
      "metadata": {
        "colab": {
          "base_uri": "https://localhost:8080/"
        },
        "id": "B0dOyfY9GbFj",
        "outputId": "eaf0cf0a-29cc-41aa-abc2-e81aae0a12f1"
      },
      "execution_count": 11,
      "outputs": [
        {
          "output_type": "stream",
          "name": "stdout",
          "text": [
            "CUDA (GPU) is available.\n"
          ]
        }
      ]
    },
    {
      "cell_type": "code",
      "source": [
        "data_path = '../data-unversioned/p1ch6/'\n",
        "cifar10 = datasets.CIFAR10(\n",
        "    data_path, train=True, download=True,\n",
        "    transform=transforms.Compose([\n",
        "        transforms.ToTensor(),\n",
        "        transforms.Normalize((0.4915, 0.4823, 0.4468),\n",
        "                             (0.2470, 0.2435, 0.2616))\n",
        "    ]))\n",
        "\n",
        "cifar10_val = datasets.CIFAR10(\n",
        "    data_path, train=False, download=True,\n",
        "    transform=transforms.Compose([\n",
        "      transforms.ToTensor(),\n",
        "      transforms.Normalize((0.4915, 0.4823, 0.4468),\n",
        "                           (0.2470, 0.2435, 0.2616))\n",
        "    ]))\n",
        "\n",
        "trainloader = torch.utils.data.DataLoader(cifar10, batch_size=32, shuffle=True)\n",
        "valloader = torch.utils.data.DataLoader(cifar10_val, batch_size=32, shuffle=False)"
      ],
      "metadata": {
        "colab": {
          "base_uri": "https://localhost:8080/"
        },
        "id": "LeubwrbCMBok",
        "outputId": "1c8b7f62-fa29-49cd-cf96-fb43b32665a1"
      },
      "execution_count": 12,
      "outputs": [
        {
          "output_type": "stream",
          "name": "stdout",
          "text": [
            "Files already downloaded and verified\n",
            "Files already downloaded and verified\n"
          ]
        }
      ]
    },
    {
      "cell_type": "code",
      "source": [
        "\n",
        "class AlexNet(nn.Module):\n",
        "    def __init__(self, num_classes = 10):\n",
        "        super(AlexNet, self). __init__()\n",
        "        self.layers = nn.Sequential(\n",
        "            nn.Conv2d(3, 64, kernel_size=3, stride=1, padding=1),\n",
        "            nn.ReLU(),\n",
        "            nn.MaxPool2d(kernel_size=2, stride=2),\n",
        "            nn.Conv2d(64, 128, kernel_size=3, padding=1),\n",
        "            nn.ReLU(),\n",
        "            nn.MaxPool2d(kernel_size=2, stride=2),\n",
        "            nn.Conv2d(128, 256, kernel_size=3, padding=1),\n",
        "            nn.ReLU(),\n",
        "            nn.Conv2d(256, 128, kernel_size=3, padding=1),\n",
        "            nn.ReLU(),\n",
        "            nn.MaxPool2d(kernel_size=2, stride=2),\n",
        "            nn.Flatten(),\n",
        "            nn.Linear(2048, 512),\n",
        "            nn.ReLU(),\n",
        "            nn.Dropout(),\n",
        "            nn.Linear(512, num_classes)\n",
        "        )\n",
        "\n",
        "    def forward(self, x):\n",
        "          x = self.layers(x)\n",
        "          x = torch.flatten(x, 1)\n",
        "          return x"
      ],
      "metadata": {
        "id": "ejmyva5BDQ5S"
      },
      "execution_count": 13,
      "outputs": []
    },
    {
      "cell_type": "code",
      "source": [
        "classes = 10\n",
        "epochs = 20\n",
        "lr = .001\n",
        "\n",
        "model = AlexNet(classes).to(device)\n",
        "criterion = nn.CrossEntropyLoss()\n",
        "optimizer = optim.SGD(model.parameters(), lr=lr)\n"
      ],
      "metadata": {
        "id": "29AT3NZ1HY3y"
      },
      "execution_count": 14,
      "outputs": []
    },
    {
      "cell_type": "code",
      "source": [
        "steps = len(trainloader)\n",
        "trainingloss = []\n",
        "validationloss = []\n",
        "valacc = []\n"
      ],
      "metadata": {
        "id": "xC1WBrLiPvQh"
      },
      "execution_count": 15,
      "outputs": []
    },
    {
      "cell_type": "code",
      "source": [
        "for epoch in range(epochs):\n",
        "    trainloss = 0;\n",
        "    valloss = 0;\n",
        "    correct = 0;\n",
        "    total = 0;\n",
        "\n",
        "    model.train()\n",
        "    for images, labels in trainloader:\n",
        "        images = images.to(device)\n",
        "        labels = labels.to(device)\n",
        "\n",
        "        optimizer.zero_grad()\n",
        "        outputs = model(images)\n",
        "        loss = criterion(outputs, labels)\n",
        "        loss.backward()\n",
        "        optimizer.step()\n",
        "        trainloss = trainloss + loss.item()\n",
        "\n",
        "    model.eval()\n",
        "    with torch.no_grad():\n",
        "        correct = 0\n",
        "        total = 0\n",
        "        for images, labels in valloader:\n",
        "            images = images.to(device)\n",
        "            labels = labels.to(device)\n",
        "            outputs = model(images)\n",
        "            loss = criterion(outputs, labels)\n",
        "            valloss = valloss + loss.item()\n",
        "            _, predicted = torch.max(outputs.data, 1)\n",
        "            total += labels.size(0)\n",
        "            correct += (predicted == labels).sum().item()\n",
        "\n",
        "    valacc.append(100 * correct / total)\n",
        "    valloss = valloss / len(valloader)\n",
        "    trainloss = trainloss / len(trainloader)\n",
        "\n",
        "    print('Epoch: {}/{}'.format(epoch+1, epochs))\n",
        "    print('Training Loss: {:.4f}'.format(trainloss))\n",
        "    print('Validation Loss: {:.4f}'.format(valloss))\n",
        "\n",
        "\n",
        "\n"
      ],
      "metadata": {
        "colab": {
          "base_uri": "https://localhost:8080/"
        },
        "id": "0GW_7czWP7nB",
        "outputId": "1aceac70-1490-49eb-eeb1-06b5fc9c72d4"
      },
      "execution_count": 16,
      "outputs": [
        {
          "output_type": "stream",
          "name": "stdout",
          "text": [
            "Epoch: 1/20\n",
            "Training Loss: 2.2999\n",
            "Validation Loss: 2.2956\n",
            "Epoch: 2/20\n",
            "Training Loss: 2.2880\n",
            "Validation Loss: 2.2741\n",
            "Epoch: 3/20\n",
            "Training Loss: 2.2272\n",
            "Validation Loss: 2.1336\n",
            "Epoch: 4/20\n",
            "Training Loss: 2.0681\n",
            "Validation Loss: 1.9683\n",
            "Epoch: 5/20\n",
            "Training Loss: 1.9499\n",
            "Validation Loss: 1.8716\n",
            "Epoch: 6/20\n",
            "Training Loss: 1.8642\n",
            "Validation Loss: 1.7863\n",
            "Epoch: 7/20\n",
            "Training Loss: 1.7784\n",
            "Validation Loss: 1.6898\n",
            "Epoch: 8/20\n",
            "Training Loss: 1.6938\n",
            "Validation Loss: 1.6143\n",
            "Epoch: 9/20\n",
            "Training Loss: 1.6335\n",
            "Validation Loss: 1.5646\n",
            "Epoch: 10/20\n",
            "Training Loss: 1.5926\n",
            "Validation Loss: 1.5319\n",
            "Epoch: 11/20\n",
            "Training Loss: 1.5584\n",
            "Validation Loss: 1.5097\n",
            "Epoch: 12/20\n",
            "Training Loss: 1.5263\n",
            "Validation Loss: 1.4750\n",
            "Epoch: 13/20\n",
            "Training Loss: 1.5018\n",
            "Validation Loss: 1.4437\n",
            "Epoch: 14/20\n",
            "Training Loss: 1.4803\n",
            "Validation Loss: 1.4488\n",
            "Epoch: 15/20\n",
            "Training Loss: 1.4565\n",
            "Validation Loss: 1.4147\n",
            "Epoch: 16/20\n",
            "Training Loss: 1.4374\n",
            "Validation Loss: 1.3898\n",
            "Epoch: 17/20\n",
            "Training Loss: 1.4145\n",
            "Validation Loss: 1.3707\n",
            "Epoch: 18/20\n",
            "Training Loss: 1.3931\n",
            "Validation Loss: 1.3394\n",
            "Epoch: 19/20\n",
            "Training Loss: 1.3747\n",
            "Validation Loss: 1.3357\n",
            "Epoch: 20/20\n",
            "Training Loss: 1.3569\n",
            "Validation Loss: 1.3175\n"
          ]
        }
      ]
    },
    {
      "cell_type": "code",
      "source": [
        "plt.plot(trainloss, label='Training Loss')\n",
        "plt.plot(valloss, label='Validation Loss')\n",
        "plt.xlabel('Epochs')\n",
        "plt.ylabel('Loss')\n",
        "plt.title('Losses')\n",
        "plt.legend()\n",
        "plt.show()"
      ],
      "metadata": {
        "colab": {
          "base_uri": "https://localhost:8080/",
          "height": 472
        },
        "id": "2ADMccKkQQU1",
        "outputId": "2f574aa7-b4e1-43b2-88c6-10a5eaa4024e"
      },
      "execution_count": 17,
      "outputs": [
        {
          "output_type": "display_data",
          "data": {
            "text/plain": [
              "<Figure size 640x480 with 1 Axes>"
            ],
            "image/png": "[encoded data removed]"
          },
          "metadata": {}
        }
      ]
    },
    {
      "cell_type": "code",
      "source": [],
      "metadata": {
        "id": "evU0bn7bQ7Aq"
      },
      "execution_count": 17,
      "outputs": []
    }
  ]
}