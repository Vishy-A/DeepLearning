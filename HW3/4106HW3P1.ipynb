{
  "nbformat": 4,
  "nbformat_minor": 0,
  "metadata": {
    "colab": {
      "provenance": [],
      "authorship_tag": "ABX9TyOMVLGfirWpZvLsAl1hbivI",
      "include_colab_link": true
    },
    "kernelspec": {
      "name": "python3",
      "display_name": "Python 3"
    },
    "language_info": {
      "name": "python"
    }
  },
  "cells": [
    {
      "cell_type": "markdown",
      "metadata": {
        "id": "view-in-github",
        "colab_type": "text"
      },
      "source": [
        "<a href=\"https://colab.research.google.com/github/Vishy-A/DeepLearning/blob/main/HW3/4106HW3P1.ipynb\" target=\"_parent\"><img src=\"https://colab.research.google.com/assets/colab-badge.svg\" alt=\"Open In Colab\"/></a>"
      ]
    },
    {
      "cell_type": "code",
      "execution_count": null,
      "metadata": {
        "id": "6uP-kHB9HUAD"
      },
      "outputs": [],
      "source": [
        "import torch\n",
        "import torch.nn as nn\n",
        "import numpy as np\n",
        "import torch.optim as optim\n",
        "import torch.nn.functional as F\n",
        "import torchvision\n",
        "import torchvision.transforms as transforms\n",
        "from sklearn.model_selection import train_test_split\n",
        "from torch.utils.data import Dataset, DataLoader"
      ]
    },
    {
      "cell_type": "code",
      "source": [
        "seq = \"Next character prediction is a fundamental task in the field of natural language processing (NLP) that involves predicting the next character in a sequence of text based on the characters that precede it. This task is essential for various applications, including text auto-completion, spell checking, and even in the development of sophisticated AI models capable of generating human-like text. At its core, next character prediction relies on statistical models or deep learning algorithms to analyze a given sequence of text and predict which character is most likely to follow. These predictions are based on patterns and relationships learned from large datasets of text during the training phase of the model. One of the most popular approaches to next character prediction involves the use of Recurrent Neural Networks (RNNs), and more specifically, a variant called Long Short-Term Memory (LSTM) networks. RNNs are particularly well-suited for sequential data like text, as they can maintain information in 'memory' about previous characters to inform the prediction of the next character. LSTM networks enhance this capability by being able to remember long-term dependencies, making them even more effective for next character prediction tasks. Training a model for next character prediction involves feeding it large amounts of text data, allowing it to learn the probability of each character's appearance following a sequence of characters. During this training process, the model adjusts its parameters to minimize the difference between its predictions and the actual outcomes, thus improving its predictive accuracy over time. Once trained, the model can be used to predict the next character in a given piece of text by considering the sequence of characters that precede it. This can enhance user experience in text editing software, improve efficiency in coding environments with auto-completion features, and enable more natural interactions with AI-based chatbots and virtual assistants. In summary, next character prediction plays a crucial role in enhancing the capabilities of various NLP applications, making text-based interactions more efficient, accurate, and human-like. Through the use of advanced machine learning models like RNNs and LSTMs, next character prediction continues to evolve, opening new possibilities for the future of text-based technology.\""
      ],
      "metadata": {
        "id": "IrosKLlaIIKI"
      },
      "execution_count": null,
      "outputs": []
    },
    {
      "cell_type": "code",
      "source": [
        "chars  = sorted(list(set(seq)))\n",
        "char_to_int = {c: i for i, c in enumerate(chars)}\n",
        "int_to_char = {i: c for i, c in enumerate(chars)}\n",
        "chars = sorted(list(set(seq)))"
      ],
      "metadata": {
        "id": "d5BBE0abIgA3"
      },
      "execution_count": null,
      "outputs": []
    },
    {
      "cell_type": "code",
      "source": [
        "def definition(maxlen):\n",
        "  x = []\n",
        "  y = []\n",
        "  for i in range(len(seq) - maxlen):\n",
        "      sequence = seq[i:i + maxlen]\n",
        "      label = seq[i + maxlen]\n",
        "      x.append([char_to_int[char] for char in sequence])\n",
        "      y.append(char_to_int[label])\n",
        "\n",
        "  x = np.array(x)\n",
        "  y = np.array(y)\n",
        "\n",
        "  return x, y"
      ],
      "metadata": {
        "id": "tTrH7qTiJXBz"
      },
      "execution_count": null,
      "outputs": []
    },
    {
      "cell_type": "code",
      "source": [
        "x10, y10 = definition(10)\n",
        "x20, y20 = definition(20)\n",
        "x30, y30 = definition(30)"
      ],
      "metadata": {
        "id": "lamh8nIiLr-S"
      },
      "execution_count": null,
      "outputs": []
    },
    {
      "cell_type": "code",
      "source": [
        "x10train, x10test, y10train, y10test = train_test_split(x10, y10, test_size=0.2, random_state=42)\n",
        "x20train, x20test, y20train, y20test = train_test_split(x20, y20, test_size=0.2, random_state=42)\n",
        "x30train, x30test, y30train, y30test = train_test_split(x30, y30, test_size=0.2, random_state=42)\n"
      ],
      "metadata": {
        "id": "R8scjz7BL26l"
      },
      "execution_count": null,
      "outputs": []
    },
    {
      "cell_type": "code",
      "source": [
        "x10train = torch.tensor(x10train, dtype=torch.long)\n",
        "x10test = torch.tensor(x10test, dtype=torch.long)\n",
        "y10train = torch.tensor(y10train, dtype=torch.long)\n",
        "y10test = torch.tensor(y10test, dtype=torch.long)\n",
        "\n",
        "x20train = torch.tensor(x20train, dtype=torch.long)\n",
        "x20test = torch.tensor(x20test, dtype=torch.long)\n",
        "y20train = torch.tensor(y20train, dtype=torch.long)\n",
        "y20test = torch.tensor(y20test, dtype=torch.long)\n",
        "\n",
        "x30train = torch.tensor(x30train, dtype=torch.long)\n",
        "x30test = torch.tensor(x30test, dtype=torch.long)\n",
        "y30train = torch.tensor(y30train, dtype=torch.long)\n",
        "y30test = torch.tensor(y30test, dtype=torch.long)\n"
      ],
      "metadata": {
        "id": "uIejrS4DMNeq"
      },
      "execution_count": null,
      "outputs": []
    },
    {
      "cell_type": "code",
      "source": [
        "class RNN(nn.Module):\n",
        "    def __init__(self, input_size, hidden_size, output_size):\n",
        "        super(RNN, self).__init__()\n",
        "        self.hidden_size = hidden_size\n",
        "        self.embedding = nn.Embedding(input_size, hidden_size)\n",
        "        self.rnn = nn.RNN(hidden_size, hidden_size)\n",
        "        self.fc = nn.Linear(hidden_size, output_size)\n",
        "        self.softmax = nn.LogSoftmax(dim=1)\n",
        "\n",
        "    def forward(self, input):\n",
        "        embedded = self.embedding(input)\n",
        "        output, _ = self.rnn(embedded)\n",
        "        output = self.fc(output[:, -1, :])\n",
        "        return output"
      ],
      "metadata": {
        "id": "-Qtd7NYAMVa-"
      },
      "execution_count": null,
      "outputs": []
    },
    {
      "cell_type": "code",
      "source": [
        "class LSTM(nn.Module):\n",
        "  def __init__(self, input_size, hidden_size, output_size):\n",
        "    super(LSTM, self).__init__()\n",
        "    self.hidden_size = hidden_size\n",
        "    self.embedding = nn.Embedding(input_size, hidden_size)\n",
        "    self.lstm = nn.LSTM(hidden_size, hidden_size)\n",
        "    self.fc = nn.Linear(hidden_size, output_size)\n",
        "\n",
        "  def forward(self, input):\n",
        "    embedded = self.embedding(input)\n",
        "    output, _ = self.lstm(embedded)\n",
        "    output = self.fc(output[:, -1, :])\n",
        "    return output"
      ],
      "metadata": {
        "id": "VlxhUdTGM1m1"
      },
      "execution_count": null,
      "outputs": []
    },
    {
      "cell_type": "code",
      "source": [
        "class GRU(nn.Module):\n",
        "  def __init__(self, input_size, hidden_size, output_size):\n",
        "    super(GRU, self).__init__()\n",
        "    self.hidden_size = hidden_size\n",
        "    self.embedding = nn.Embedding(input_size, hidden_size)\n",
        "    self.gru = nn.GRU(hidden_size, hidden_size)\n",
        "    self.fc = nn.Linear(hidden_size, output_size)\n",
        "\n",
        "  def forward(self, input):\n",
        "    embedded = self.embedding(input)\n",
        "    output, _ = self.gru(embedded)\n",
        "    output = self.fc(output[:, -1, :])\n",
        "    return output"
      ],
      "metadata": {
        "id": "xebns3zJOp8Z"
      },
      "execution_count": null,
      "outputs": []
    },
    {
      "cell_type": "code",
      "source": [
        "hidden_size = 128\n",
        "lr = .001\n",
        "epochs = 100\n",
        "\n",
        "criterion = nn.CrossEntropyLoss()\n"
      ],
      "metadata": {
        "id": "kJD3-pZ7OyNd"
      },
      "execution_count": null,
      "outputs": []
    },
    {
      "cell_type": "code",
      "source": [
        "modelRNN = RNN(len(chars), hidden_size, len(chars))\n",
        "modelLSTM = LSTM(len(chars), hidden_size, len(chars))\n",
        "modelGRU = GRU(len(chars), hidden_size, len(chars))\n",
        "\n",
        "optimizerRNN = optim.Adam(modelRNN.parameters(), lr=lr)\n",
        "optimizerLSTM = optim.Adam(modelLSTM.parameters(), lr=lr)\n",
        "optimizerGRU = optim.Adam(modelGRU.parameters(), lr=lr)"
      ],
      "metadata": {
        "id": "1tqFxPfDO5JO"
      },
      "execution_count": null,
      "outputs": []
    },
    {
      "cell_type": "code",
      "source": [
        "for epoch in range(epochs):\n",
        "  modelRNN.train()\n",
        "  optimizerRNN.zero_grad()\n",
        "  outputRNN = modelRNN(x30train)\n",
        "  lossRNN = criterion(outputRNN, y30train)\n",
        "  lossRNN.backward()\n",
        "  optimizerRNN.step()\n",
        "\n",
        "  modelRNN.eval()\n",
        "  with torch.no_grad():\n",
        "    outputRNN = modelRNN(x30test)\n",
        "    lossRNN = criterion(outputRNN, y30test)\n",
        "    _, predictedRNN = torch.max(outputRNN.data, 1)\n",
        "    accuracyRNN = (predictedRNN == y30test).sum().item() / len(y30test)\n",
        "\n",
        "    if (epoch + 1) % 10 == 0:\n",
        "      print(f'Epoch [{epoch + 1}/{epochs}], Loss: {lossRNN.item():.4f}, Accuracy: {accuracyRNN:.4f}')\n"
      ],
      "metadata": {
        "colab": {
          "base_uri": "https://localhost:8080/"
        },
        "id": "NBdb2mOQP1A7",
        "outputId": "0c5bc1ae-b57d-4c34-a8d3-af3ce26f60fa"
      },
      "execution_count": null,
      "outputs": [
        {
          "output_type": "stream",
          "name": "stdout",
          "text": [
            "Epoch [10/100], Loss: 3.0167, Accuracy: 0.1928\n",
            "Epoch [20/100], Loss: 2.7299, Accuracy: 0.2309\n",
            "Epoch [30/100], Loss: 2.6332, Accuracy: 0.2309\n",
            "Epoch [40/100], Loss: 2.5732, Accuracy: 0.2436\n",
            "Epoch [50/100], Loss: 2.5514, Accuracy: 0.2436\n",
            "Epoch [60/100], Loss: 2.5405, Accuracy: 0.2331\n",
            "Epoch [70/100], Loss: 2.5407, Accuracy: 0.2288\n",
            "Epoch [80/100], Loss: 2.5469, Accuracy: 0.2331\n",
            "Epoch [90/100], Loss: 2.5586, Accuracy: 0.2182\n",
            "Epoch [100/100], Loss: 2.5766, Accuracy: 0.2140\n"
          ]
        }
      ]
    },
    {
      "cell_type": "code",
      "source": [
        "for epoch in range(epochs):\n",
        "  modelLSTM.train()\n",
        "  optimizerLSTM.zero_grad()\n",
        "  outputLSTM = modelLSTM(x30train)\n",
        "  lossLSTM = criterion(outputLSTM, y30train)\n",
        "  lossLSTM.backward()\n",
        "  optimizerLSTM.step()\n",
        "\n",
        "  modelLSTM.eval()\n",
        "  with torch.no_grad():\n",
        "    outputLSTM = modelLSTM(x30test)\n",
        "    lossLSTM = criterion(outputLSTM, y30test)\n",
        "    _, predictedLSTM = torch.max(outputLSTM.data, 1)\n",
        "    accuracyLSTM = (predictedLSTM == y30test).sum().item() / len(y30test)\n",
        "\n",
        "    if (epoch + 1) % 10 == 0:\n",
        "      print(f'Epoch [{epoch + 1}/{epochs}], Loss: {lossLSTM.item():.4f}, Accuracy: {accuracyLSTM:.4f}')\n"
      ],
      "metadata": {
        "colab": {
          "base_uri": "https://localhost:8080/"
        },
        "id": "94LCLrd8R1IS",
        "outputId": "b97fca99-143f-4710-bfd9-d7735ce3745a"
      },
      "execution_count": null,
      "outputs": [
        {
          "output_type": "stream",
          "name": "stdout",
          "text": [
            "Epoch [10/100], Loss: 3.3896, Accuracy: 0.2013\n",
            "Epoch [20/100], Loss: 2.9030, Accuracy: 0.2097\n",
            "Epoch [30/100], Loss: 2.7631, Accuracy: 0.2479\n",
            "Epoch [40/100], Loss: 2.6742, Accuracy: 0.2521\n",
            "Epoch [50/100], Loss: 2.6005, Accuracy: 0.2542\n",
            "Epoch [60/100], Loss: 2.5591, Accuracy: 0.2627\n",
            "Epoch [70/100], Loss: 2.5374, Accuracy: 0.2606\n",
            "Epoch [80/100], Loss: 2.5257, Accuracy: 0.2458\n",
            "Epoch [90/100], Loss: 2.5279, Accuracy: 0.2331\n",
            "Epoch [100/100], Loss: 2.5373, Accuracy: 0.2309\n"
          ]
        }
      ]
    },
    {
      "cell_type": "code",
      "source": [
        "for epoch in range(epochs):\n",
        "  modelGRU.train()\n",
        "  optimizerGRU.zero_grad()\n",
        "  outputGRU = modelGRU(x30train)\n",
        "  lossGRU = criterion(outputGRU, y30train)\n",
        "  lossGRU.backward()\n",
        "  optimizerGRU.step()\n",
        "\n",
        "  modelGRU.eval()\n",
        "  with torch.no_grad():\n",
        "      outputGRU = modelGRU(x30test)\n",
        "      lossGRU = criterion(outputGRU, y30test)\n",
        "      _, predictedGRU = torch.max(outputGRU.data, 1)\n",
        "      accuracyGRU = (predictedGRU == y30test).sum().item() / len(y30test)\n",
        "\n",
        "      if (epoch + 1) % 10 == 0:\n",
        "        print(f'Epoch [{epoch + 1}/{epochs}], Loss: {lossGRU.item():.4f}, Accuracy: {accuracyGRU:.4f}')"
      ],
      "metadata": {
        "colab": {
          "base_uri": "https://localhost:8080/"
        },
        "id": "ukYk1RtVSGzJ",
        "outputId": "0edbb542-fd1a-4802-e0cd-2a552425d17e"
      },
      "execution_count": null,
      "outputs": [
        {
          "output_type": "stream",
          "name": "stdout",
          "text": [
            "Epoch [10/100], Loss: 3.1313, Accuracy: 0.1907\n",
            "Epoch [20/100], Loss: 2.7971, Accuracy: 0.2436\n",
            "Epoch [30/100], Loss: 2.6734, Accuracy: 0.2331\n",
            "Epoch [40/100], Loss: 2.5834, Accuracy: 0.2373\n",
            "Epoch [50/100], Loss: 2.5368, Accuracy: 0.2352\n",
            "Epoch [60/100], Loss: 2.5186, Accuracy: 0.2394\n",
            "Epoch [70/100], Loss: 2.5055, Accuracy: 0.2394\n",
            "Epoch [80/100], Loss: 2.5039, Accuracy: 0.2331\n",
            "Epoch [90/100], Loss: 2.5088, Accuracy: 0.2331\n",
            "Epoch [100/100], Loss: 2.5240, Accuracy: 0.2288\n"
          ]
        }
      ]
    },
    {
      "cell_type": "code",
      "source": [
        "def predict_next_char(model, char_to_int, int_to_char, initialstr):\n",
        "  model.eval()\n",
        "  with torch.no_grad():\n",
        "    initial_input = torch.tensor([char_to_int[char] for char in initialstr], dtype=torch.long).unsqueeze(0)\n",
        "    output = model(initial_input)\n",
        "    predicted = torch.argmax(output, dim=1).item()\n",
        "    return int_to_char[predicted]"
      ],
      "metadata": {
        "id": "OftU10VOQksZ"
      },
      "execution_count": null,
      "outputs": []
    },
    {
      "cell_type": "code",
      "source": [
        "test_str = \"This is a simple example to demonstrate how to predict the next chara\"\n",
        "predicted_char = predict_next_char(modelGRU, char_to_int, int_to_char, test_str)\n",
        "print(f\"Predicted character: {predicted_char}\")"
      ],
      "metadata": {
        "colab": {
          "base_uri": "https://localhost:8080/"
        },
        "id": "KjyVxQhgRM-N",
        "outputId": "41759836-f402-438b-a87d-8fba90a18516"
      },
      "execution_count": null,
      "outputs": [
        {
          "output_type": "stream",
          "name": "stdout",
          "text": [
            "Predicted character: c\n"
          ]
        }
      ]
    },
    {
      "cell_type": "code",
      "source": [],
      "metadata": {
        "id": "hOqabzNqRcMy"
      },
      "execution_count": null,
      "outputs": []
    }
  ]
}