{
  "nbformat": 4,
  "nbformat_minor": 0,
  "metadata": {
    "colab": {
      "provenance": [],
      "machine_shape": "hm",
      "gpuType": "A100",
      "include_colab_link": true
    },
    "kernelspec": {
      "name": "python3",
      "display_name": "Python 3"
    },
    "language_info": {
      "name": "python"
    },
    "accelerator": "GPU"
  },
  "cells": [
    {
      "cell_type": "markdown",
      "metadata": {
        "id": "view-in-github",
        "colab_type": "text"
      },
      "source": [
        "<a href=\"https://colab.research.google.com/github/Vishy-A/DeepLearning/blob/main/HW4/4106HW4.ipynb\" target=\"_parent\"><img src=\"https://colab.research.google.com/assets/colab-badge.svg\" alt=\"Open In Colab\"/></a>"
      ]
    },
    {
      "cell_type": "code",
      "execution_count": 66,
      "metadata": {
        "id": "u1apZGREBLcY"
      },
      "outputs": [],
      "source": [
        "import torch\n",
        "import torch.nn as nn\n",
        "from torch.utils.data import Dataset, DataLoader\n",
        "import torch.optim as optim\n",
        "import numpy as np\n",
        "import random\n",
        "import torch.nn.functional as F\n",
        "import torchtext"
      ]
    },
    {
      "cell_type": "code",
      "source": [
        "engtofra = [\n",
        "    (\"I am cold\", \"J'ai froid\"),\n",
        "\n",
        "    (\"You are tired\", \"Tu es fatigué\"),\n",
        "\n",
        "    (\"He is hungry\", \"Il a faim\"),\n",
        "\n",
        "    (\"She is happy\", \"Elle est heureuse\"),\n",
        "\n",
        "    (\"We are friends\", \"Nous sommes amis\"),\n",
        "\n",
        "    (\"They are students\", \"Ils sont étudiants\"),\n",
        "\n",
        "    (\"The cat is sleeping\", \"Le chat dort\"),\n",
        "\n",
        "    (\"The sun is shining\", \"Le soleil brille\"),\n",
        "\n",
        "    (\"We love music\", \"Nous aimons la musique\"),\n",
        "\n",
        "    (\"She speaks French fluently\", \"Elle parle français couramment\"),\n",
        "\n",
        "    (\"He enjoys reading books\", \"Il aime lire des livres\"),\n",
        "\n",
        "    (\"They play soccer every weekend\", \"Ils jouent au football chaque week-end\"),\n",
        "\n",
        "    (\"The movie starts at 7 PM\", \"Le film commence à 19 heures\"),\n",
        "\n",
        "    (\"She wears a red dress\", \"Elle porte une robe rouge\"),\n",
        "\n",
        "    (\"We cook dinner together\", \"Nous cuisinons le dîner ensemble\"),\n",
        "\n",
        "    (\"He drives a blue car\", \"Il conduit une voiture bleue\"),\n",
        "\n",
        "    (\"They visit museums often\", \"Ils visitent souvent des musées\"),\n",
        "\n",
        "    (\"The restaurant serves delicious food\", \"Le restaurant sert une délicieuse cuisine\"),\n",
        "\n",
        "    (\"She studies mathematics at university\", \"Elle étudie les mathématiques à l'université\"),\n",
        "\n",
        "    (\"We watch movies on Fridays\", \"Nous regardons des films le vendredi\"),\n",
        "\n",
        "    (\"He listens to music while jogging\", \"Il écoute de la musique en faisant du jogging\"),\n",
        "\n",
        "    (\"They travel around the world\", \"Ils voyagent autour du monde\"),\n",
        "\n",
        "    (\"The book is on the table\", \"Le livre est sur la table\"),\n",
        "\n",
        "    (\"She dances gracefully\", \"Elle danse avec grâce\"),\n",
        "\n",
        "    (\"We celebrate birthdays with cake\", \"Nous célébrons les anniversaires avec un gâteau\"),\n",
        "\n",
        "    (\"He works hard every day\", \"Il travaille dur tous les jours\"),\n",
        "\n",
        "    (\"They speak different languages\", \"Ils parlent différentes langues\"),\n",
        "\n",
        "    (\"The flowers bloom in spring\", \"Les fleurs fleurissent au printemps\"),\n",
        "\n",
        "    (\"She writes poetry in her free time\", \"Elle écrit de la poésie pendant son temps libre\"),\n",
        "\n",
        "    (\"We learn something new every day\", \"Nous apprenons quelque chose de nouveau chaque jour\"),\n",
        "\n",
        "    (\"The dog barks loudly\", \"Le chien aboie bruyamment\"),\n",
        "\n",
        "    (\"He sings beautifully\", \"Il chante magnifiquement\"),\n",
        "\n",
        "    (\"They swim in the pool\", \"Ils nagent dans la piscine\"),\n",
        "\n",
        "    (\"The birds chirp in the morning\", \"Les oiseaux gazouillent le matin\"),\n",
        "\n",
        "    (\"She teaches English at school\", \"Elle enseigne l'anglais à l'école\"),\n",
        "\n",
        "    (\"We eat breakfast together\", \"Nous prenons le petit déjeuner ensemble\"),\n",
        "\n",
        "    (\"He paints landscapes\", \"Il peint des paysages\"),\n",
        "\n",
        "    (\"They laugh at the joke\", \"Ils rient de la blague\"),\n",
        "\n",
        "    (\"The clock ticks loudly\", \"L'horloge tic-tac bruyamment\"),\n",
        "\n",
        "    (\"She runs in the park\", \"Elle court dans le parc\"),\n",
        "\n",
        "    (\"We travel by train\", \"Nous voyageons en train\"),\n",
        "\n",
        "    (\"He writes a letter\", \"Il écrit une lettre\"),\n",
        "\n",
        "    (\"They read books at the library\", \"Ils lisent des livres à la bibliothèque\"),\n",
        "\n",
        "    (\"The baby cries\", \"Le bébé pleure\"),\n",
        "\n",
        "    (\"She studies hard for exams\", \"Elle étudie dur pour les examens\"),\n",
        "\n",
        "    (\"We plant flowers in the garden\", \"Nous plantons des fleurs dans le jardin\"),\n",
        "\n",
        "    (\"He fixes the car\", \"Il répare la voiture\"),\n",
        "\n",
        "    (\"They drink coffee in the morning\", \"Ils boivent du café le matin\"),\n",
        "\n",
        "    (\"The sun sets in the evening\", \"Le soleil se couche le soir\"),\n",
        "\n",
        "    (\"She dances at the party\", \"Elle danse à la fête\"),\n",
        "\n",
        "    (\"We play music at the concert\", \"Nous jouons de la musique au concert\"),\n",
        "\n",
        "    (\"He cooks dinner for his family\", \"Il cuisine le dîner pour sa famille\"),\n",
        "\n",
        "    (\"They study French grammar\", \"Ils étudient la grammaire française\"),\n",
        "\n",
        "    (\"The rain falls gently\", \"La pluie tombe doucement\"),\n",
        "\n",
        "    (\"She sings a song\", \"Elle chante une chanson\"),\n",
        "\n",
        "    (\"We watch a movie together\", \"Nous regardons un film ensemble\"),\n",
        "\n",
        "    (\"He sleeps deeply\", \"Il dort profondément\"),\n",
        "\n",
        "    (\"They travel to Paris\", \"Ils voyagent à Paris\"),\n",
        "\n",
        "    (\"The children play in the park\", \"Les enfants jouent dans le parc\"),\n",
        "\n",
        "    (\"She walks along the beach\", \"Elle se promène le long de la plage\"),\n",
        "\n",
        "    (\"We talk on the phone\", \"Nous parlons au téléphone\"),\n",
        "\n",
        "    (\"He waits for the bus\", \"Il attend le bus\"),\n",
        "\n",
        "    (\"They visit the Eiffel Tower\", \"Ils visitent la tour Eiffel\"),\n",
        "\n",
        "    (\"The stars twinkle at night\", \"Les étoiles scintillent la nuit\"),\n",
        "\n",
        "    (\"She dreams of flying\", \"Elle rêve de voler\"),\n",
        "\n",
        "    (\"We work in the office\", \"Nous travaillons au bureau\"),\n",
        "\n",
        "    (\"He studies history\", \"Il étudie l'histoire\"),\n",
        "\n",
        "    (\"They listen to the radio\", \"Ils écoutent la radio\"),\n",
        "\n",
        "    (\"The wind blows gently\", \"Le vent souffle doucement\"),\n",
        "\n",
        "    (\"She swims in the ocean\", \"Elle nage dans l'océan\"),\n",
        "\n",
        "    (\"We dance at the wedding\", \"Nous dansons au mariage\"),\n",
        "\n",
        "    (\"He climbs the mountain\", \"Il gravit la montagne\"),\n",
        "\n",
        "    (\"They hike in the forest\", \"Ils font de la randonnée dans la forêt\"),\n",
        "\n",
        "    (\"The cat meows loudly\", \"Le chat miaule bruyamment\"),\n",
        "\n",
        "    (\"She paints a picture\", \"Elle peint un tableau\"),\n",
        "\n",
        "    (\"We build a sandcastle\", \"Nous construisons un château de sable\"),\n",
        "\n",
        "    (\"He sings in the choir\", \"Il chante dans le chœur\")\n",
        "]\n"
      ],
      "metadata": {
        "id": "aBSGE7qGkxDj"
      },
      "execution_count": 42,
      "outputs": []
    },
    {
      "cell_type": "code",
      "source": [
        "class Vocab:\n",
        "  def __init__(self):\n",
        "    self.word2idx = {\"\": 0, \"\": 1, \"\": 2}\n",
        "    self.idx2word = {0: \"\", 1: \"\", 2: \"\"}\n",
        "    self.word_count = {}\n",
        "    self.n_words = 3\n",
        "\n",
        "  def add_sentence(self, sentence):\n",
        "    for word in sentence.split(' '):\n",
        "      self.add_word(word)\n",
        "\n",
        "  def add_word(self, word):\n",
        "    if word not in self.word2idx:\n",
        "      self.word2idx[word] = self.n_words\n",
        "      self.idx2word[self.n_words] = word\n",
        "      self.word_count[word] = 1\n",
        "      self.n_words += 1\n",
        "    else:\n",
        "      self.word_count[word] += 1\n",
        "\n"
      ],
      "metadata": {
        "id": "Edyf5AgZClQ-"
      },
      "execution_count": 43,
      "outputs": []
    },
    {
      "cell_type": "code",
      "source": [
        "def tokenize(sentences, vocab):\n",
        "  maxlen = max(len(sentence.split(' ')) for sentence in sentences) + 2\n",
        "  tokenizedsentences = []\n",
        "  for sentence in sentences:\n",
        "    tokens = [vocab.word2idx[\"\"]] + [vocab.word2idx[word] for word in sentence.split(' ')] + [vocab.word2idx[\"\"]]\n",
        "    paddedtokens = tokens + [vocab.word2idx[\"\"]] * (maxlen - len(tokens))\n",
        "    tokenizedsentences.append(paddedtokens)\n",
        "  return torch.tensor(tokenizedsentences, dtype = torch.long)\n",
        "\n"
      ],
      "metadata": {
        "id": "35M0LBIBElI2"
      },
      "execution_count": 44,
      "outputs": []
    },
    {
      "cell_type": "code",
      "source": [
        "device = torch.device(\"cuda\" if torch.cuda.is_available() else \"cpu\")"
      ],
      "metadata": {
        "id": "5TE1Fb9ggVKk"
      },
      "execution_count": 45,
      "outputs": []
    },
    {
      "cell_type": "code",
      "source": [
        "def pairToTensors(pair):\n",
        "  inputtens = torch.tensor(pair[0], dtype=torch.long)\n",
        "  targettens = torch.tensor(pair[1], dtype=torch.long)\n",
        "  return (inputtens, targettens)"
      ],
      "metadata": {
        "id": "wKmOC4QM-sEe"
      },
      "execution_count": 46,
      "outputs": []
    },
    {
      "cell_type": "code",
      "source": [
        "class EFDataset(Dataset):\n",
        "  def __init__(self, pairs):\n",
        "    self.engvocab = Vocab()\n",
        "    self.fravocab = Vocab()\n",
        "    self.pairs = []\n",
        "\n",
        "    for eng, fra in pairs:\n",
        "      self.engvocab.add_sentence(eng)\n",
        "      self.fravocab.add_sentence(fra)\n",
        "      self.pairs.append((eng, fra))\n",
        "\n",
        "    self.eng_sentences = [pair[0] for pair in self.pairs]\n",
        "    self.fra_sentences = [pair[1] for pair in self.pairs]\n",
        "\n",
        "    self.eng_tokens = tokenize(self.eng_sentences, self.engvocab)\n",
        "    self.fra_tokens = tokenize(self.fra_sentences, self.fravocab)\n",
        "\n",
        "    self.eng_embedding = torch.nn.Embedding(self.engvocab.n_words, 100)\n",
        "    self.fra_embedding = torch.nn.Embedding(self.fravocab.n_words, 100)\n",
        "\n",
        "  def __len__(self):\n",
        "    return len(self.pairs)\n",
        "\n",
        "  def __getitem__(self, idx):\n",
        "    eng_tokens = self.eng_tokens[idx]\n",
        "    fra_tokens = self.fra_tokens[idx]\n",
        "\n",
        "    eng_emb = self.eng_embedding(eng_tokens)\n",
        "    fra_emb = self.fra_embedding(fra_tokens)\n",
        "\n",
        "    return eng_tokens, fra_tokens, eng_emb, fra_emb\n",
        "\n",
        "\n",
        "\n",
        "\n"
      ],
      "metadata": {
        "id": "0DosYmbsE2LS"
      },
      "execution_count": 47,
      "outputs": []
    },
    {
      "cell_type": "code",
      "source": [
        "class Encoder(nn.Module):\n",
        "  def __init__(self, input_size, hidden_size):\n",
        "    super(Encoder, self).__init__()\n",
        "    self.hidden_size = hidden_size\n",
        "    self.embedding = nn.Embedding(input_size, hidden_size)\n",
        "    self.gru = nn.GRU(hidden_size, hidden_size)\n",
        "\n",
        "  def forward(self, input, hidden):\n",
        "    embedded = self.embedding(input).view(1, 1, -1)\n",
        "    output, hidden = self.gru(embedded, hidden)\n",
        "    return output, hidden\n",
        "\n",
        "  def initHidden(self):\n",
        "    return torch.zeros(1, 1, self.hidden_size, device=device)"
      ],
      "metadata": {
        "id": "XVKxX80LTu83"
      },
      "execution_count": 48,
      "outputs": []
    },
    {
      "cell_type": "code",
      "source": [
        "class Decoder(nn.Module):\n",
        "  def __init__(self, hidden_size, output_size):\n",
        "    super(Decoder, self).__init__()\n",
        "    self.hidden_size = hidden_size\n",
        "    self.embedding = nn.Embedding(output_size, hidden_size)\n",
        "    self.gru = nn.GRU(hidden_size, hidden_size)\n",
        "    self.out = nn.Linear(hidden_size, output_size)\n",
        "    self.softmax = nn.LogSoftmax(dim=1)\n",
        "\n",
        "  def forward(self, input, hidden):\n",
        "    embedded = self.embedding(input).view(1, 1, -1)\n",
        "    output, hidden = self.gru(embedded, hidden)\n",
        "    output = self.softmax(self.out(output[0]))\n",
        "    return output, hidden\n",
        "\n",
        "  def init_hidden(self):\n",
        "    return torch.zeros(1, 1, self.hidden_size, device=device)"
      ],
      "metadata": {
        "id": "jRz6y2_dUXrl"
      },
      "execution_count": 49,
      "outputs": []
    },
    {
      "cell_type": "code",
      "source": [
        "dataset = EFDataset(engtofra)\n",
        "dataloader = DataLoader(dataset, batch_size=1, shuffle=True)"
      ],
      "metadata": {
        "id": "Obh2Gbe0Ghpl"
      },
      "execution_count": 50,
      "outputs": []
    },
    {
      "cell_type": "code",
      "source": [
        "encoder = Encoder(input_size=dataset.engvocab.n_words, hidden_size=256).to(device)\n",
        "decoder = Decoder(hidden_size=256, output_size=dataset.fravocab.n_words).to(device)\n",
        "\n",
        "hiddensize = 256\n",
        "lr = .01\n",
        "\n",
        "encoderoptim = optim.SGD(encoder.parameters(), lr=lr)\n",
        "decoderoptim = optim.SGD(decoder.parameters(), lr=lr)"
      ],
      "metadata": {
        "id": "9ssG4JGGd2Y5"
      },
      "execution_count": 51,
      "outputs": []
    },
    {
      "cell_type": "code",
      "source": [
        "def training(input_tensor, target_tensor, encoder, decoder, encoderoptim, decoderoptim, criterion, maxleng = 12):\n",
        "  encoder_hidden = encoder.initHidden()\n",
        "\n",
        "  encoderoptim.zero_grad()\n",
        "  decoderoptim.zero_grad()\n",
        "\n",
        "  input_length = input_tensor.size(0)\n",
        "  target_length = target_tensor.size(0)\n",
        "\n",
        "  encoder_outputs = torch.zeros(maxleng, encoder.hidden_size, device=device)\n",
        "\n",
        "  loss = 0\n",
        "\n",
        "  for ei in range(input_length):\n",
        "    encoder_output, encoder_hidden = encoder(input_tensor[ei], encoder_hidden)\n",
        "\n",
        "  decoder_input = torch.tensor([dataset.fravocab.word2idx['']], device=device)\n",
        "  decoder_hidden = encoder_hidden\n",
        "\n",
        "  for di in range(target_length):\n",
        "    decoder_output, decoder_hidden = decoder(decoder_input, decoder_hidden)\n",
        "    topv, topi = decoder_output.topk(1)\n",
        "    decoder_input = topi.squeeze().detach()\n",
        "\n",
        "    loss += criterion(decoder_output, target_tensor[di].unsqueeze(0))\n",
        "    if decoder_input == torch.tensor([dataset.fravocab.word2idx['']], device=device):\n",
        "      break\n",
        "\n",
        "  loss.backward()\n",
        "\n",
        "  encoderoptim.step()\n",
        "  decoderoptim.step()\n",
        "\n",
        "  return loss.item() / target_length\n"
      ],
      "metadata": {
        "id": "csNgnMRkgshZ"
      },
      "execution_count": 63,
      "outputs": []
    },
    {
      "cell_type": "code",
      "source": [
        "criterion = nn.NLLLoss()\n",
        "\n",
        "epochs = 50\n"
      ],
      "metadata": {
        "id": "JtNNJGiEhn0o"
      },
      "execution_count": 64,
      "outputs": []
    },
    {
      "cell_type": "code",
      "source": [
        "for epoch in range(epochs):\n",
        "  totalloss = 0\n",
        "  for eng_tokens, fra_tokens, _, _ in dataloader:\n",
        "    input_tensor = eng_tokens.squeeze().to(device)\n",
        "    target_tensor = fra_tokens.squeeze().to(device)\n",
        "    loss = training(input_tensor, target_tensor, encoder, decoder, encoderoptim, decoderoptim, criterion)\n",
        "    totalloss += loss\n",
        "\n",
        "  if epoch % 10 == 0:\n",
        "    print(f\"Epoch {epoch} loss {totalloss / len(dataloader)}\")"
      ],
      "metadata": {
        "colab": {
          "base_uri": "https://localhost:8080/"
        },
        "id": "TNYi6jedhrr_",
        "outputId": "c73dd9cf-6a7c-43ff-eeef-861e6e4e906b"
      },
      "execution_count": 65,
      "outputs": [
        {
          "output_type": "stream",
          "name": "stdout",
          "text": [
            "Epoch 0 loss 0.09950038957065402\n",
            "Epoch 10 loss 9.422329567271637e-05\n",
            "Epoch 20 loss 4.658551091974801e-05\n",
            "Epoch 30 loss 3.074175481167165e-05\n",
            "Epoch 40 loss 2.287048966746993e-05\n"
          ]
        }
      ]
    },
    {
      "cell_type": "code",
      "source": [
        "##Part 2\n",
        "\n",
        "class AttentionDecoder(nn.Module):\n",
        "  def __init__(self, hidden_size, output_size):\n",
        "    super(AttentionDecoder, self).__init__()\n",
        "    self.hidden_size = hidden_size\n",
        "    self.output_size = output_size\n",
        "    self.dropout = .1\n",
        "    self.maxleng = 12\n",
        "\n",
        "    self.embedding = nn.Embedding(self.output_size, self.hidden_size)\n",
        "    self.gru = nn.GRU(self.hidden_size, self.hidden_size)\n",
        "    self.out = nn.Linear(self.hidden_size, self.output_size)\n",
        "    self.attn = nn.Linear(self.hidden_size, self.maxleng)\n",
        "    self.attn_combine = nn.Linear(self.hidden_size * 2, self.hidden_size)\n",
        "    self.dropout = nn.Dropout(self.dropout)\n",
        "\n",
        "  def forward(self, input, hidden, encoder_outputs):\n",
        "    embedded = self.embedding(input).view(1, 1, -1)\n",
        "    embedded = self.dropout(embedded)\n",
        "\n",
        "    attn_weights = F.softmax(self.attn(hidden[0]), dim=1)\n",
        "    attn_applied = torch.bmm(attn_weights.unsqueeze(0), encoder_outputs.unsqueeze(0))\n",
        "\n",
        "    output = torch.cat((embedded[0], attn_applied[0]), 1)\n",
        "    output = self.attn_combine(output).unsqueeze(0)\n",
        "\n",
        "    output = F.relu(output)\n",
        "    output, hidden = self.gru(output, hidden)\n",
        "\n",
        "    output = F.log_softmax(self.out(output[0]), dim=1)\n",
        "    return output, hidden, attn_weights\n",
        "\n",
        "  def initHidden(self):\n",
        "    return torch.zeros(1, 1, self.hidden_size, device=device)"
      ],
      "metadata": {
        "id": "RcVLZZHdFPaT"
      },
      "execution_count": 67,
      "outputs": []
    },
    {
      "cell_type": "code",
      "source": [
        "encoder = Encoder(input_size=dataset.engvocab.n_words, hidden_size=256).to(device)\n",
        "decoder = AttentionDecoder(hidden_size=256, output_size=dataset.fravocab.n_words).to(device)\n",
        "\n",
        "hiddensize = 256\n",
        "lr = .01\n",
        "\n",
        "encoderoptim = optim.SGD(encoder.parameters(), lr=lr)\n",
        "decoderoptim = optim.SGD(decoder.parameters(), lr=lr)"
      ],
      "metadata": {
        "id": "1ry8StG3IFey"
      },
      "execution_count": 69,
      "outputs": []
    },
    {
      "cell_type": "code",
      "source": [
        "def attentiontraining(input_tensor, target_tensor, encoder, decoder, encoderoptim, decoderoptim, criterion, encoder_ouputs, maxleng = 12):\n",
        "  encoder_hidden = encoder.initHidden()\n",
        "\n",
        "  encoderoptim.zero_grad()\n",
        "  decoderoptim.zero_grad()\n",
        "\n",
        "  input_length = input_tensor.size(0)\n",
        "  target_length = target_tensor.size(0)\n",
        "\n",
        "  encoder_outputs = torch.zeros(maxleng, encoder.hidden_size, device=device)\n",
        "\n",
        "  loss = 0\n",
        "\n",
        "  for ei in range(input_length):\n",
        "    encoder_output, encoder_hidden = encoder(input_tensor[ei].unsqueeze(0), encoder_hidden)\n",
        "\n",
        "  decoder_input = torch.tensor([dataset.fravocab.word2idx['']], device=device)\n",
        "  decoder_hidden = encoder_hidden\n",
        "\n",
        "  for di in range(target_length):\n",
        "    decoder_output, decoder_hidden, decoder_attention = decoder(decoder_input, decoder_hidden, encoder_outputs)\n",
        "    topv, topi = decoder_output.topk(1)\n",
        "    decoder_input = topi.squeeze().detach()\n",
        "\n",
        "    loss += criterion(decoder_output, target_tensor[di].unsqueeze(0))\n",
        "    if decoder_input == torch.tensor([dataset.fravocab.word2idx['']], device=device):\n",
        "      break\n",
        "\n",
        "  loss.backward()\n",
        "\n",
        "  encoderoptim.step()\n",
        "  decoderoptim.step()\n",
        "\n",
        "  return loss.item() / target_length\n"
      ],
      "metadata": {
        "id": "W-1IghaSIJow"
      },
      "execution_count": 89,
      "outputs": []
    },
    {
      "cell_type": "code",
      "source": [
        "criterion = nn.NLLLoss()\n",
        "epochs = 50"
      ],
      "metadata": {
        "id": "Fmy0rYNlIin-"
      },
      "execution_count": 90,
      "outputs": []
    },
    {
      "cell_type": "code",
      "source": [
        "for epoch in range(epochs):\n",
        "  totalloss = 0\n",
        "  for eng_tokens, fra_tokens, _, _ in dataloader:\n",
        "    input_tensor = eng_tokens.squeeze().to(device)\n",
        "    target_tensor = fra_tokens.squeeze().to(device)\n",
        "    input_length = input_tensor.size(0)\n",
        "    encoder_hidden = encoder.initHidden()\n",
        "    encoder_outputs = torch.zeros(12, encoder.hidden_size, device=device)\n",
        "    for ei in range(input_length):\n",
        "         encoder_output, encoder_hidden = encoder(input_tensor[ei].unsqueeze(0), encoder_hidden)\n",
        "         encoder_outputs[ei] = encoder_output[0, 0]\n",
        "\n",
        "    loss = attentiontraining(input_tensor, target_tensor, encoder, decoder, encoderoptim, decoderoptim, criterion, encoder_outputs)\n",
        "    totalloss += loss\n",
        "\n",
        "  if epoch % 10 == 0:\n",
        "    print(f\"Epoch {epoch} loss {totalloss / len(dataloader)}\")"
      ],
      "metadata": {
        "colab": {
          "base_uri": "https://localhost:8080/"
        },
        "id": "YH8t8SMlIkfo",
        "outputId": "e057af7d-6032-400e-849b-2ff31f2edbec"
      },
      "execution_count": 91,
      "outputs": [
        {
          "output_type": "stream",
          "name": "stdout",
          "text": [
            "Epoch 0 loss 0.12283511027592585\n",
            "Epoch 10 loss 9.368187938256075e-05\n",
            "Epoch 20 loss 4.6136010298835285e-05\n",
            "Epoch 30 loss 3.0056965458888557e-05\n",
            "Epoch 40 loss 2.2027504408345554e-05\n"
          ]
        }
      ]
    },
    {
      "cell_type": "code",
      "source": [
        "##Part 3\n",
        "\n",
        "fratoeng = [\n",
        "    (\"J'ai froid\", \"I am cold\"),\n",
        "\n",
        "    (\"Tu es fatigué\", \"You are tired\"),\n",
        "\n",
        "    (\"Il a faim\", \"He is hungry\"),\n",
        "\n",
        "    (\"Elle est heureuse\", \"She is happy\"),\n",
        "\n",
        "    (\"Nous sommes amis\", \"We are friends\"),\n",
        "\n",
        "    (\"Ils sont étudiants\", \"They are students\"),\n",
        "\n",
        "    (\"Le chat dort\", \"The cat is sleeping\"),\n",
        "\n",
        "    (\"Le soleil brille\", \"The sun is shining\"),\n",
        "\n",
        "    (\"Nous aimons la musique\", \"We love music\"),\n",
        "\n",
        "    (\"Elle parle français couramment\", \"She speaks French fluently\"),\n",
        "\n",
        "    (\"Il aime lire des livres\", \"He enjoys reading books\"),\n",
        "\n",
        "    (\"Ils jouent au football chaque week-end\", \"They play soccer every weekend\"),\n",
        "\n",
        "    (\"Le film commence à 19 heures\", \"The movie starts at 7 PM\"),\n",
        "\n",
        "    (\"Elle porte une robe rouge\", \"She wears a red dress\"),\n",
        "\n",
        "    (\"Nous cuisinons le dîner ensemble\", \"We cook dinner together\"),\n",
        "\n",
        "    (\"Il conduit une voiture bleue\", \"He drives a blue car\"),\n",
        "\n",
        "    (\"Ils visitent souvent des musées\", \"They visit museums often\"),\n",
        "\n",
        "    (\"Le restaurant sert une délicieuse cuisine\", \"The restaurant serves delicious food\"),\n",
        "\n",
        "    (\"Elle étudie les mathématiques à l'université\", \"She studies mathematics at university\"),\n",
        "\n",
        "    (\"Nous regardons des films le vendredi\", \"We watch movies on Fridays\"),\n",
        "\n",
        "    (\"Il écoute de la musique en faisant du jogging\", \"He listens to music while jogging\"),\n",
        "\n",
        "    (\"Ils voyagent autour du monde\", \"They travel around the world\"),\n",
        "\n",
        "    (\"Le livre est sur la table\", \"The book is on the table\"),\n",
        "\n",
        "    (\"Elle danse avec grâce\", \"She dances gracefully\"),\n",
        "\n",
        "    (\"Nous célébrons les anniversaires avec un gâteau\", \"We celebrate birthdays with cake\"),\n",
        "\n",
        "    (\"Il travaille dur tous les jours\", \"He works hard every day\"),\n",
        "\n",
        "    (\"Ils parlent différentes langues\", \"They speak different languages\"),\n",
        "\n",
        "    (\"Les fleurs fleurissent au printemps\", \"The flowers bloom in spring\"),\n",
        "\n",
        "    (\"Elle écrit de la poésie pendant son temps libre\", \"She writes poetry in her free time\"),\n",
        "\n",
        "    (\"Nous apprenons quelque chose de nouveau chaque jour\", \"We learn something new every day\"),\n",
        "\n",
        "    (\"Le chien aboie bruyamment\", \"The dog barks loudly\"),\n",
        "\n",
        "    (\"Il chante magnifiquement\", \"He sings beautifully\"),\n",
        "\n",
        "    (\"Ils nagent dans la piscine\", \"They swim in the pool\"),\n",
        "\n",
        "    (\"Les oiseaux gazouillent le matin\", \"The birds chirp in the morning\"),\n",
        "\n",
        "    (\"Elle enseigne l'anglais à l'école\", \"She teaches English at school\"),\n",
        "\n",
        "    (\"Nous prenons le petit déjeuner ensemble\", \"We eat breakfast together\"),\n",
        "\n",
        "    (\"Il peint des paysages\", \"He paints landscapes\"),\n",
        "\n",
        "    (\"Ils rient de la blague\", \"They laugh at the joke\"),\n",
        "\n",
        "    (\"L'horloge tic-tac bruyamment\", \"The clock ticks loudly\"),\n",
        "\n",
        "    (\"Elle court dans le parc\", \"She runs in the park\"),\n",
        "\n",
        "    (\"Nous voyageons en train\", \"We travel by train\"),\n",
        "\n",
        "    (\"Il écrit une lettre\", \"He writes a letter\"),\n",
        "\n",
        "    (\"Ils lisent des livres à la bibliothèque\", \"They read books at the library\"),\n",
        "\n",
        "    (\"Le bébé pleure\", \"The baby cries\"),\n",
        "\n",
        "    (\"Elle étudie dur pour les examens\", \"She studies hard for exams\"),\n",
        "\n",
        "    (\"Nous plantons des fleurs dans le jardin\", \"We plant flowers in the garden\"),\n",
        "\n",
        "    (\"Il répare la voiture\", \"He fixes the car\"),\n",
        "\n",
        "    (\"Ils boivent du café le matin\", \"They drink coffee in the morning\"),\n",
        "\n",
        "    (\"Le soleil se couche le soir\", \"The sun sets in the evening\"),\n",
        "\n",
        "    (\"Elle danse à la fête\", \"She dances at the party\"),\n",
        "\n",
        "    (\"Nous jouons de la musique au concert\", \"We play music at the concert\"),\n",
        "\n",
        "    (\"Il cuisine le dîner pour sa famille\", \"He cooks dinner for his family\"),\n",
        "\n",
        "    (\"Ils étudient la grammaire française\", \"They study French grammar\"),\n",
        "\n",
        "    (\"La pluie tombe doucement\", \"The rain falls gently\"),\n",
        "\n",
        "    (\"Elle chante une chanson\", \"She sings a song\"),\n",
        "\n",
        "    (\"Nous regardons un film ensemble\", \"We watch a movie together\"),\n",
        "\n",
        "    (\"Il dort profondément\", \"He sleeps deeply\"),\n",
        "\n",
        "    (\"Ils voyagent à Paris\", \"They travel to Paris\"),\n",
        "\n",
        "    (\"Les enfants jouent dans le parc\", \"The children play in the park\"),\n",
        "\n",
        "    (\"Elle se promène le long de la plage\", \"She walks along the beach\"),\n",
        "\n",
        "    (\"Nous parlons au téléphone\", \"We talk on the phone\"),\n",
        "\n",
        "    (\"Il attend le bus\", \"He waits for the bus\"),\n",
        "\n",
        "    (\"Ils visitent la tour Eiffel\", \"They visit the Eiffel Tower\"),\n",
        "\n",
        "    (\"Les étoiles scintillent la nuit\", \"The stars twinkle at night\"),\n",
        "\n",
        "    (\"Elle rêve de voler\", \"She dreams of flying\"),\n",
        "\n",
        "    (\"Nous travaillons au bureau\", \"We work in the office\"),\n",
        "\n",
        "    (\"Il étudie l'histoire\", \"He studies history\"),\n",
        "\n",
        "    (\"Ils écoutent la radio\", \"They listen to the radio\"),\n",
        "\n",
        "    (\"Le vent souffle doucement\", \"The wind blows gently\"),\n",
        "\n",
        "    (\"Elle nage dans l'océan\", \"She swims in the ocean\"),\n",
        "\n",
        "    (\"Nous dansons au mariage\", \"We dance at the wedding\"),\n",
        "\n",
        "    (\"Il gravit la montagne\", \"He climbs the mountain\"),\n",
        "\n",
        "    (\"Ils font de la randonnée dans la forêt\", \"They hike in the forest\"),\n",
        "\n",
        "    (\"Le chat miaule bruyamment\", \"The cat meows loudly\"),\n",
        "\n",
        "    (\"Elle peint un tableau\", \"She paints a picture\"),\n",
        "\n",
        "    (\"Nous construisons un château de sable\", \"We build a sandcastle\"),\n",
        "\n",
        "    (\"Il chante dans le chœur\", \"He sings in the choir\")\n",
        "\n",
        "]\n"
      ],
      "metadata": {
        "id": "t3qTVLz-ItIo"
      },
      "execution_count": 92,
      "outputs": []
    },
    {
      "cell_type": "code",
      "source": [
        "dataset = EFDataset(fratoeng)\n",
        "dataloader = DataLoader(dataset, batch_size=1, shuffle=True)"
      ],
      "metadata": {
        "id": "-Y7yyPesPTRV"
      },
      "execution_count": 94,
      "outputs": []
    },
    {
      "cell_type": "code",
      "source": [
        "class Encoder(nn.Module):\n",
        "  def __init__(self, input_size, hidden_size):\n",
        "    super(Encoder, self).__init__()\n",
        "    self.hidden_size = hidden_size\n",
        "    self.embedding = nn.Embedding(input_size, hidden_size)\n",
        "    self.gru = nn.GRU(hidden_size, hidden_size)\n",
        "\n",
        "  def forward(self, input, hidden):\n",
        "    embedded = self.embedding(input).view(1, 1, -1)\n",
        "    output, hidden = self.gru(embedded, hidden)\n",
        "    return output, hidden\n",
        "\n",
        "  def initHidden(self):\n",
        "    return torch.zeros(1, 1, self.hidden_size, device=device)"
      ],
      "metadata": {
        "id": "IJGB3ElWPf10"
      },
      "execution_count": 95,
      "outputs": []
    },
    {
      "cell_type": "code",
      "source": [
        "\n",
        "class AttentionDecoder(nn.Module):\n",
        "  def __init__(self, hidden_size, output_size):\n",
        "    super(AttentionDecoder, self).__init__()\n",
        "    self.hidden_size = hidden_size\n",
        "    self.output_size = output_size\n",
        "    self.dropout = .1\n",
        "    self.maxleng = 12\n",
        "\n",
        "    self.embedding = nn.Embedding(self.output_size, self.hidden_size)\n",
        "    self.gru = nn.GRU(self.hidden_size, self.hidden_size)\n",
        "    self.out = nn.Linear(self.hidden_size, self.output_size)\n",
        "    self.attn = nn.Linear(self.hidden_size, self.maxleng)\n",
        "    self.attn_combine = nn.Linear(self.hidden_size * 2, self.hidden_size)\n",
        "    self.dropout = nn.Dropout(self.dropout)\n",
        "\n",
        "  def forward(self, input, hidden, encoder_outputs):\n",
        "    embedded = self.embedding(input).view(1, 1, -1)\n",
        "    embedded = self.dropout(embedded)\n",
        "\n",
        "    attn_weights = F.softmax(self.attn(hidden[0]), dim=1)\n",
        "    attn_applied = torch.bmm(attn_weights.unsqueeze(0), encoder_outputs.unsqueeze(0))\n",
        "\n",
        "    output = torch.cat((embedded[0], attn_applied[0]), 1)\n",
        "    output = self.attn_combine(output).unsqueeze(0)\n",
        "\n",
        "    output = F.relu(output)\n",
        "    output, hidden = self.gru(output, hidden)\n",
        "\n",
        "    output = F.log_softmax(self.out(output[0]), dim=1)\n",
        "    return output, hidden, attn_weights\n",
        "\n",
        "  def initHidden(self):\n",
        "    return torch.zeros(1, 1, self.hidden_size, device=device)"
      ],
      "metadata": {
        "id": "sbxgiNTIPns7"
      },
      "execution_count": 97,
      "outputs": []
    },
    {
      "cell_type": "code",
      "source": [
        "encoder = Encoder(input_size=dataset.engvocab.n_words, hidden_size=256).to(device)\n",
        "decoder = AttentionDecoder(hidden_size=256, output_size=dataset.fravocab.n_words).to(device)\n",
        "\n",
        "hiddensize = 256\n",
        "lr = .01\n",
        "\n",
        "encoderoptim = optim.SGD(encoder.parameters(), lr=lr)\n",
        "decoderoptim = optim.SGD(decoder.parameters(), lr=lr)"
      ],
      "metadata": {
        "id": "OCVGzRQ0PpO7"
      },
      "execution_count": 98,
      "outputs": []
    },
    {
      "cell_type": "code",
      "source": [
        "def attentiontraining(input_tensor, target_tensor, encoder, decoder, encoderoptim, decoderoptim, criterion, encoder_ouputs, maxleng = 12):\n",
        "  encoder_hidden = encoder.initHidden()\n",
        "\n",
        "  encoderoptim.zero_grad()\n",
        "  decoderoptim.zero_grad()\n",
        "\n",
        "  input_length = input_tensor.size(0)\n",
        "  target_length = target_tensor.size(0)\n",
        "\n",
        "  encoder_outputs = torch.zeros(maxleng, encoder.hidden_size, device=device)\n",
        "\n",
        "  loss = 0\n",
        "\n",
        "  for ei in range(input_length):\n",
        "    encoder_output, encoder_hidden = encoder(input_tensor[ei].unsqueeze(0), encoder_hidden)\n",
        "\n",
        "  decoder_input = torch.tensor([dataset.fravocab.word2idx['']], device=device)\n",
        "  decoder_hidden = encoder_hidden\n",
        "\n",
        "  for di in range(target_length):\n",
        "    decoder_output, decoder_hidden, decoder_attention = decoder(decoder_input, decoder_hidden, encoder_outputs)\n",
        "    topv, topi = decoder_output.topk(1)\n",
        "    decoder_input = topi.squeeze().detach()\n",
        "\n",
        "    loss += criterion(decoder_output, target_tensor[di].unsqueeze(0))\n",
        "    if decoder_input == torch.tensor([dataset.fravocab.word2idx['']], device=device):\n",
        "      break\n",
        "\n",
        "  loss.backward()\n",
        "\n",
        "  encoderoptim.step()\n",
        "  decoderoptim.step()\n",
        "\n",
        "  return loss.item() / target_length\n"
      ],
      "metadata": {
        "id": "nbM2FA_XP1wB"
      },
      "execution_count": 99,
      "outputs": []
    },
    {
      "cell_type": "code",
      "source": [
        "criterion = nn.NLLLoss()\n",
        "epochs = 50\n"
      ],
      "metadata": {
        "id": "PlW_DDvFP4hu"
      },
      "execution_count": 100,
      "outputs": []
    },
    {
      "cell_type": "code",
      "source": [
        "for epoch in range(epochs):\n",
        "  totalloss = 0\n",
        "  for eng_tokens, fra_tokens, _, _ in dataloader:\n",
        "    input_tensor = eng_tokens.squeeze().to(device)\n",
        "    target_tensor = fra_tokens.squeeze().to(device)\n",
        "    input_length = input_tensor.size(0)\n",
        "    encoder_hidden = encoder.initHidden()\n",
        "    encoder_outputs = torch.zeros(12, encoder.hidden_size, device=device)\n",
        "    for ei in range(input_length):\n",
        "         encoder_output, encoder_hidden = encoder(input_tensor[ei].unsqueeze(0), encoder_hidden)\n",
        "         encoder_outputs[ei] = encoder_output[0, 0]\n",
        "\n",
        "    loss = attentiontraining(input_tensor, target_tensor, encoder, decoder, encoderoptim, decoderoptim, criterion, encoder_outputs)\n",
        "    totalloss += loss\n",
        "\n",
        "  if epoch % 10 == 0:\n",
        "    print(f\"Epoch {epoch} loss {totalloss / len(dataloader)}\")"
      ],
      "metadata": {
        "colab": {
          "base_uri": "https://localhost:8080/"
        },
        "id": "LFWa2x0qP9_c",
        "outputId": "085be6e1-3cf3-4374-db7e-92b168761cb7"
      },
      "execution_count": 101,
      "outputs": [
        {
          "output_type": "stream",
          "name": "stdout",
          "text": [
            "Epoch 0 loss 0.12541176889408884\n",
            "Epoch 10 loss 0.00012125632917833703\n",
            "Epoch 20 loss 6.149911395530113e-05\n",
            "Epoch 30 loss 3.932742695935598e-05\n",
            "Epoch 40 loss 2.8534200491264736e-05\n"
          ]
        }
      ]
    },
    {
      "cell_type": "code",
      "source": [],
      "metadata": {
        "id": "wYMoPQ_qQAdE"
      },
      "execution_count": null,
      "outputs": []
    }
  ]
}