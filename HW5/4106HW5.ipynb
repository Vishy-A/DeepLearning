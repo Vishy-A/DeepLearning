{
  "nbformat": 4,
  "nbformat_minor": 0,
  "metadata": {
    "colab": {
      "provenance": [],
      "authorship_tag": "ABX9TyOMVxznm9M8hw1S6I6ZdLwl",
      "include_colab_link": true
    },
    "kernelspec": {
      "name": "python3",
      "display_name": "Python 3"
    },
    "language_info": {
      "name": "python"
    }
  },
  "cells": [
    {
      "cell_type": "markdown",
      "metadata": {
        "id": "view-in-github",
        "colab_type": "text"
      },
      "source": [
        "<a href=\"https://colab.research.google.com/github/Vishy-A/DeepLearning/blob/main/HW5/4106HW5.ipynb\" target=\"_parent\"><img src=\"https://colab.research.google.com/assets/colab-badge.svg\" alt=\"Open In Colab\"/></a>"
      ]
    },
    {
      "cell_type": "code",
      "execution_count": 2,
      "metadata": {
        "id": "o0R27SIjh1zc"
      },
      "outputs": [],
      "source": [
        "import torch\n",
        "import torch.nn as nn\n",
        "import torch.optim as optim\n",
        "import numpy as np\n",
        "from sklearn.model_selection import train_test_split\n",
        "import torch.nn.functional as F\n",
        "import requests"
      ]
    },
    {
      "cell_type": "code",
      "source": [
        "text = \"Next character prediction is a fundamental task in the field of natural language processing (NLP) that involves predicting the next character in a sequence of text based on the characters that precede it. This task is essential for various applications, including text auto-completion, spell checking, and even in the development of sophisticated AI models capable of generating human-like text. At its core, next character prediction relies on statistical models or deep learning algorithms to analyze a given sequence of text and predict which character is most likely to follow. These predictions are based on patterns and relationships learned from large datasets of text during the training phase of the model. One of the most popular approaches to next character prediction involves the use of Recurrent Neural Networks (RNNs), and more specifically, a variant called Long Short-Term Memory (LSTM) networks. RNNs are particularly well-suited for sequential data like text, as they can maintain information in 'memory' about previous characters to inform the prediction of the next character. LSTM networks enhance this capability by being able to remember long-term dependencies, making them even more effective for next character prediction tasks. Training a model for next character prediction involves feeding it large amounts of text data, allowing it to learn the probability of each character's appearance following a sequence of characters. During this training process, the model adjusts its parameters to minimize the difference between its predictions and the actual outcomes, thus improving its predictive accuracy over time. Once trained, the model can be used to predict the next character in a given piece of text by considering the sequence of characters that precede it. This can enhance user experience in text editing software, improve efficiency in coding environments with auto-completion features, and enable more natural interactions with AI-based chatbots and virtual assistants. In summary, next character prediction lays a crucial role in enhancing the capabilities of various NLP applications, making text-based interactions more efficient, accurate, and human-like. Through the use of advanced machine learning models like RNNs and LSTMs, next character prediction continues to evolve, opening new possibilities for the future of text-based technology.\"\n"
      ],
      "metadata": {
        "id": "srcdzXAwiADC"
      },
      "execution_count": 3,
      "outputs": []
    },
    {
      "cell_type": "code",
      "source": [
        "device = torch.device(\"cuda\" if torch.cuda.is_available() else \"cpu\")\n",
        "print(f\"Using device: {device}\")"
      ],
      "metadata": {
        "colab": {
          "base_uri": "https://localhost:8080/"
        },
        "id": "0-G29QVt3JyG",
        "outputId": "583982b3-8923-4024-ae7c-6366e1a59116"
      },
      "execution_count": 4,
      "outputs": [
        {
          "output_type": "stream",
          "name": "stdout",
          "text": [
            "Using device: cpu\n"
          ]
        }
      ]
    },
    {
      "cell_type": "code",
      "source": [
        "chars = sorted(list(set(text)))\n",
        "ind_to_char = {i : ch for i, ch in enumerate(chars)}\n",
        "char_to_ind = {ch : i for i, ch in enumerate(chars)}"
      ],
      "metadata": {
        "id": "sRpf9YENrwU3"
      },
      "execution_count": 5,
      "outputs": []
    },
    {
      "cell_type": "code",
      "source": [
        "maxlen = 20\n",
        "x = []\n",
        "y = []\n",
        "for i in range(len(text) - maxlen):\n",
        "  sequence = text[i : i + maxlen]\n",
        "  label = text[i + maxlen]\n",
        "  x.append([char_to_ind[ch] for ch in sequence])\n",
        "  y.append(char_to_ind[label])"
      ],
      "metadata": {
        "id": "BizUEu5nsIKu"
      },
      "execution_count": 6,
      "outputs": []
    },
    {
      "cell_type": "code",
      "source": [
        "x = np.array(x)\n",
        "y = np.array(y)"
      ],
      "metadata": {
        "id": "2PNdre7AsmQs"
      },
      "execution_count": 7,
      "outputs": []
    },
    {
      "cell_type": "code",
      "source": [
        "xtrain, xval, ytrain, yval = train_test_split(x, y, test_size=0.2, random_state=42)"
      ],
      "metadata": {
        "id": "P-OAh7lesqMH"
      },
      "execution_count": 8,
      "outputs": []
    },
    {
      "cell_type": "code",
      "source": [
        "xtrain = torch.tensor(xtrain, dtype=torch.long)\n",
        "xval = torch.tensor(xval, dtype=torch.long)\n",
        "ytrain = torch.tensor(ytrain, dtype=torch.long)\n",
        "yval = torch.tensor(yval, dtype=torch.long)"
      ],
      "metadata": {
        "id": "EEl40su_sz8e"
      },
      "execution_count": 9,
      "outputs": []
    },
    {
      "cell_type": "code",
      "source": [
        "class CharTransformer(nn.Module):\n",
        "  def __init__(self, input_size, hidden_size, output_size, n_layers, nhead):\n",
        "    super(CharTransformer, self).__init__()\n",
        "    self.embedding = nn.Embedding(input_size, hidden_size)\n",
        "    encoder_layers = nn.TransformerEncoderLayer(hidden_size, nhead)\n",
        "    self.transformer_encoder = nn.TransformerEncoder(encoder_layers, n_layers)\n",
        "    self.fc = nn.Linear(hidden_size, output_size)\n",
        "\n",
        "  def forward(self, x):\n",
        "    embedded = self.embedding(x)\n",
        "    trans_output = self.transformer_encoder(embedded)\n",
        "    output = self.fc(trans_output[:, -1, :])\n",
        "    return output"
      ],
      "metadata": {
        "id": "rwy29j4-s4E-"
      },
      "execution_count": 10,
      "outputs": []
    },
    {
      "cell_type": "code",
      "source": [
        "hidden_size = 128\n",
        "n_layers = 3\n",
        "nhead = 2\n",
        "lr = .005\n",
        "epochs = 100\n",
        "\n",
        "model = CharTransformer(len(chars), hidden_size, len(chars), n_layers, nhead)\n",
        "criterion = nn.CrossEntropyLoss()\n",
        "optimizer = optim.Adam(model.parameters(), lr=lr)"
      ],
      "metadata": {
        "colab": {
          "base_uri": "https://localhost:8080/"
        },
        "id": "ZrTpgapHtVR-",
        "outputId": "70cd37ba-c716-45af-a1c2-4eb9446c7e62"
      },
      "execution_count": 11,
      "outputs": [
        {
          "output_type": "stream",
          "name": "stderr",
          "text": [
            "/usr/local/lib/python3.10/dist-packages/torch/nn/modules/transformer.py:286: UserWarning: enable_nested_tensor is True, but self.use_nested_tensor is False because encoder_layer.self_attn.batch_first was not True(use batch_first for better inference performance)\n",
            "  warnings.warn(f\"enable_nested_tensor is True, but self.use_nested_tensor is False because {why_not_sparsity_fast_path}\")\n"
          ]
        }
      ]
    },
    {
      "cell_type": "code",
      "source": [
        "for epoch in range(epochs):\n",
        "  model.train()\n",
        "  optimizer.zero_grad()\n",
        "  outputs = model(xtrain)\n",
        "  loss = criterion(outputs, ytrain)\n",
        "  loss.backward()\n",
        "  optimizer.step()\n",
        "\n",
        "  model.eval()\n",
        "  with torch.no_grad():\n",
        "    valoutput = model(xval)\n",
        "    valloss = criterion(valoutput, yval)\n",
        "    _, valpred = torch.max(valoutput, dim=1)\n",
        "    valacc = (valpred == yval).float().mean()\n",
        "\n",
        "  if(epoch+1) % 10 == 0:\n",
        "    print(f\"Epoch {epoch+1}/{epochs}, Loss: {loss.item():.4f}, Val Loss: {valloss.item():.4f}, Val Acc: {valacc.item():.4f}\")"
      ],
      "metadata": {
        "id": "HdhpBh_nuICx"
      },
      "execution_count": null,
      "outputs": []
    },
    {
      "cell_type": "code",
      "source": [
        "def predict_next_char(model, char_to_ind, ind_to_char, initial_str):\n",
        "  model.eval()\n",
        "  with torch.no_grad():\n",
        "    initial_ip = torch.tensor([char_to_ind[c] for c in initial_str[-maxlen:]], dtype = torch.long).unsqueeze(0)\n",
        "    prediction = model(initial_ip)\n",
        "    predicted_ind = torch.argmax(prediction, dim=1).item()\n",
        "    return ind_to_char[predicted_ind]"
      ],
      "metadata": {
        "id": "TbXolgVstiGQ"
      },
      "execution_count": null,
      "outputs": []
    },
    {
      "cell_type": "code",
      "source": [
        "test_str = \"This is a simple example to demonstrate how to predict the next cha\"\n",
        "predicted_char = predict_next_char(model, char_to_ind, ind_to_char, test_str)\n",
        "print(f\"Predicted character: {predicted_char}\")"
      ],
      "metadata": {
        "id": "qgoH2022vHza"
      },
      "execution_count": null,
      "outputs": []
    },
    {
      "cell_type": "code",
      "source": [],
      "metadata": {
        "id": "JdS5oZrMvPPq"
      },
      "execution_count": null,
      "outputs": []
    }
  ]
}