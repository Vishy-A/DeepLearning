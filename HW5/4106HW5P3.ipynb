{
  "nbformat": 4,
  "nbformat_minor": 0,
  "metadata": {
    "colab": {
      "provenance": [],
      "machine_shape": "hm",
      "gpuType": "L4",
      "include_colab_link": true
    },
    "kernelspec": {
      "name": "python3",
      "display_name": "Python 3"
    },
    "language_info": {
      "name": "python"
    },
    "accelerator": "GPU"
  },
  "cells": [
    {
      "cell_type": "markdown",
      "metadata": {
        "id": "view-in-github",
        "colab_type": "text"
      },
      "source": [
        "<a href=\"https://colab.research.google.com/github/Vishy-A/DeepLearning/blob/main/HW5/4106HW5P3.ipynb\" target=\"_parent\"><img src=\"https://colab.research.google.com/assets/colab-badge.svg\" alt=\"Open In Colab\"/></a>"
      ]
    },
    {
      "cell_type": "code",
      "execution_count": null,
      "metadata": {
        "id": "u1apZGREBLcY"
      },
      "outputs": [],
      "source": [
        "import torch\n",
        "import torch.nn as nn\n",
        "from torch.utils.data import Dataset, DataLoader\n",
        "import torch.optim as optim\n",
        "import numpy as np\n",
        "import random\n",
        "import torch.nn.functional as F\n",
        "import torchtext"
      ]
    },
    {
      "cell_type": "code",
      "source": [
        "SOS_token = 0\n",
        "EOS_token = 1"
      ],
      "metadata": {
        "id": "mmEzafhQSBwz"
      },
      "execution_count": null,
      "outputs": []
    },
    {
      "cell_type": "code",
      "source": [
        "engtofra = [\n",
        "    (\"I am cold\", \"J'ai froid\"),\n",
        "\n",
        "    (\"You are tired\", \"Tu es fatigué\"),\n",
        "\n",
        "    (\"He is hungry\", \"Il a faim\"),\n",
        "\n",
        "    (\"She is happy\", \"Elle est heureuse\"),\n",
        "\n",
        "    (\"We are friends\", \"Nous sommes amis\"),\n",
        "\n",
        "    (\"They are students\", \"Ils sont étudiants\"),\n",
        "\n",
        "    (\"The cat is sleeping\", \"Le chat dort\"),\n",
        "\n",
        "    (\"The sun is shining\", \"Le soleil brille\"),\n",
        "\n",
        "    (\"We love music\", \"Nous aimons la musique\"),\n",
        "\n",
        "    (\"She speaks French fluently\", \"Elle parle français couramment\"),\n",
        "\n",
        "    (\"He enjoys reading books\", \"Il aime lire des livres\"),\n",
        "\n",
        "    (\"They play soccer every weekend\", \"Ils jouent au football chaque week-end\"),\n",
        "\n",
        "    (\"The movie starts at 7 PM\", \"Le film commence à 19 heures\"),\n",
        "\n",
        "    (\"She wears a red dress\", \"Elle porte une robe rouge\"),\n",
        "\n",
        "    (\"We cook dinner together\", \"Nous cuisinons le dîner ensemble\"),\n",
        "\n",
        "    (\"He drives a blue car\", \"Il conduit une voiture bleue\"),\n",
        "\n",
        "    (\"They visit museums often\", \"Ils visitent souvent des musées\"),\n",
        "\n",
        "    (\"The restaurant serves delicious food\", \"Le restaurant sert une délicieuse cuisine\"),\n",
        "\n",
        "    (\"She studies mathematics at university\", \"Elle étudie les mathématiques à l'université\"),\n",
        "\n",
        "    (\"We watch movies on Fridays\", \"Nous regardons des films le vendredi\"),\n",
        "\n",
        "    (\"He listens to music while jogging\", \"Il écoute de la musique en faisant du jogging\"),\n",
        "\n",
        "    (\"They travel around the world\", \"Ils voyagent autour du monde\"),\n",
        "\n",
        "    (\"The book is on the table\", \"Le livre est sur la table\"),\n",
        "\n",
        "    (\"She dances gracefully\", \"Elle danse avec grâce\"),\n",
        "\n",
        "    (\"We celebrate birthdays with cake\", \"Nous célébrons les anniversaires avec un gâteau\"),\n",
        "\n",
        "    (\"He works hard every day\", \"Il travaille dur tous les jours\"),\n",
        "\n",
        "    (\"They speak different languages\", \"Ils parlent différentes langues\"),\n",
        "\n",
        "    (\"The flowers bloom in spring\", \"Les fleurs fleurissent au printemps\"),\n",
        "\n",
        "    (\"She writes poetry in her free time\", \"Elle écrit de la poésie pendant son temps libre\"),\n",
        "\n",
        "    (\"We learn something new every day\", \"Nous apprenons quelque chose de nouveau chaque jour\"),\n",
        "\n",
        "    (\"The dog barks loudly\", \"Le chien aboie bruyamment\"),\n",
        "\n",
        "    (\"He sings beautifully\", \"Il chante magnifiquement\"),\n",
        "\n",
        "    (\"They swim in the pool\", \"Ils nagent dans la piscine\"),\n",
        "\n",
        "    (\"The birds chirp in the morning\", \"Les oiseaux gazouillent le matin\"),\n",
        "\n",
        "    (\"She teaches English at school\", \"Elle enseigne l'anglais à l'école\"),\n",
        "\n",
        "    (\"We eat breakfast together\", \"Nous prenons le petit déjeuner ensemble\"),\n",
        "\n",
        "    (\"He paints landscapes\", \"Il peint des paysages\"),\n",
        "\n",
        "    (\"They laugh at the joke\", \"Ils rient de la blague\"),\n",
        "\n",
        "    (\"The clock ticks loudly\", \"L'horloge tic-tac bruyamment\"),\n",
        "\n",
        "    (\"She runs in the park\", \"Elle court dans le parc\"),\n",
        "\n",
        "    (\"We travel by train\", \"Nous voyageons en train\"),\n",
        "\n",
        "    (\"He writes a letter\", \"Il écrit une lettre\"),\n",
        "\n",
        "    (\"They read books at the library\", \"Ils lisent des livres à la bibliothèque\"),\n",
        "\n",
        "    (\"The baby cries\", \"Le bébé pleure\"),\n",
        "\n",
        "    (\"She studies hard for exams\", \"Elle étudie dur pour les examens\"),\n",
        "\n",
        "    (\"We plant flowers in the garden\", \"Nous plantons des fleurs dans le jardin\"),\n",
        "\n",
        "    (\"He fixes the car\", \"Il répare la voiture\"),\n",
        "\n",
        "    (\"They drink coffee in the morning\", \"Ils boivent du café le matin\"),\n",
        "\n",
        "    (\"The sun sets in the evening\", \"Le soleil se couche le soir\"),\n",
        "\n",
        "    (\"She dances at the party\", \"Elle danse à la fête\"),\n",
        "\n",
        "    (\"We play music at the concert\", \"Nous jouons de la musique au concert\"),\n",
        "\n",
        "    (\"He cooks dinner for his family\", \"Il cuisine le dîner pour sa famille\"),\n",
        "\n",
        "    (\"They study French grammar\", \"Ils étudient la grammaire française\"),\n",
        "\n",
        "    (\"The rain falls gently\", \"La pluie tombe doucement\"),\n",
        "\n",
        "    (\"She sings a song\", \"Elle chante une chanson\"),\n",
        "\n",
        "    (\"We watch a movie together\", \"Nous regardons un film ensemble\"),\n",
        "\n",
        "    (\"He sleeps deeply\", \"Il dort profondément\"),\n",
        "\n",
        "    (\"They travel to Paris\", \"Ils voyagent à Paris\"),\n",
        "\n",
        "    (\"The children play in the park\", \"Les enfants jouent dans le parc\"),\n",
        "\n",
        "    (\"She walks along the beach\", \"Elle se promène le long de la plage\"),\n",
        "\n",
        "    (\"We talk on the phone\", \"Nous parlons au téléphone\"),\n",
        "\n",
        "    (\"He waits for the bus\", \"Il attend le bus\"),\n",
        "\n",
        "    (\"They visit the Eiffel Tower\", \"Ils visitent la tour Eiffel\"),\n",
        "\n",
        "    (\"The stars twinkle at night\", \"Les étoiles scintillent la nuit\"),\n",
        "\n",
        "    (\"She dreams of flying\", \"Elle rêve de voler\"),\n",
        "\n",
        "    (\"We work in the office\", \"Nous travaillons au bureau\"),\n",
        "\n",
        "    (\"He studies history\", \"Il étudie l'histoire\"),\n",
        "\n",
        "    (\"They listen to the radio\", \"Ils écoutent la radio\"),\n",
        "\n",
        "    (\"The wind blows gently\", \"Le vent souffle doucement\"),\n",
        "\n",
        "    (\"She swims in the ocean\", \"Elle nage dans l'océan\"),\n",
        "\n",
        "    (\"We dance at the wedding\", \"Nous dansons au mariage\"),\n",
        "\n",
        "    (\"He climbs the mountain\", \"Il gravit la montagne\"),\n",
        "\n",
        "    (\"They hike in the forest\", \"Ils font de la randonnée dans la forêt\"),\n",
        "\n",
        "    (\"The cat meows loudly\", \"Le chat miaule bruyamment\"),\n",
        "\n",
        "    (\"She paints a picture\", \"Elle peint un tableau\"),\n",
        "\n",
        "    (\"We build a sandcastle\", \"Nous construisons un château de sable\"),\n",
        "\n",
        "    (\"He sings in the choir\", \"Il chante dans le chœur\")\n",
        "]\n"
      ],
      "metadata": {
        "id": "aBSGE7qGkxDj"
      },
      "execution_count": null,
      "outputs": []
    },
    {
      "cell_type": "code",
      "source": [],
      "metadata": {
        "id": "JqT7qxQ1FqA1"
      },
      "execution_count": null,
      "outputs": []
    },
    {
      "cell_type": "code",
      "source": [
        "class Translate(Dataset):\n",
        "  def __init__(self, engtofra, word2idx):\n",
        "    self.engtofra = engtofra\n",
        "    self.word2idx = word2idx\n",
        "\n",
        "\n",
        "  def __len__(self):\n",
        "    return len(self.engtofra)\n",
        "\n",
        "  def __getitem__(self, idx):\n",
        "    inputsen, targetsen = self.engtofra[idx]\n",
        "    inputtokens = [self.word2idx[word] for word in inputsen.split(' ')] + [EOS_token]\n",
        "    targettokens = [self.word2idx[word] for word in targetsen.split(' ')] + [EOS_token]\n",
        "    return torch.tensor(inputtokens), torch.tensor(targettokens)"
      ],
      "metadata": {
        "id": "Edyf5AgZClQ-"
      },
      "execution_count": null,
      "outputs": []
    },
    {
      "cell_type": "code",
      "source": [
        "word2idx = {\"SOS\": SOS_token, \"EOS\": EOS_token}\n",
        "for pair in engtofra:\n",
        "  for word in pair[0].split()  + pair[1].split():\n",
        "    if word not in word2idx:\n",
        "      word2idx[word] = len(word2idx)"
      ],
      "metadata": {
        "id": "35M0LBIBElI2"
      },
      "execution_count": null,
      "outputs": []
    },
    {
      "cell_type": "code",
      "source": [
        "translation_dataset = Translate(engtofra, word2idx)\n",
        "dataloader = DataLoader(translation_dataset, batch_size=1, shuffle=True)"
      ],
      "metadata": {
        "id": "p0RSTsRAFs0-"
      },
      "execution_count": null,
      "outputs": []
    },
    {
      "cell_type": "code",
      "source": [
        "idx2word = {idx: word for word, idx in word2idx.items()}"
      ],
      "metadata": {
        "id": "0V2fXMkcCnx4"
      },
      "execution_count": null,
      "outputs": []
    },
    {
      "cell_type": "code",
      "source": [
        "device = torch.device(\"cuda\" if torch.cuda.is_available() else \"cpu\")\n",
        "print(f'Using device: {device}')\n"
      ],
      "metadata": {
        "id": "5TE1Fb9ggVKk",
        "colab": {
          "base_uri": "https://localhost:8080/"
        },
        "outputId": "e0d49d46-6da5-4b2c-d53c-308111d822ad"
      },
      "execution_count": null,
      "outputs": [
        {
          "output_type": "stream",
          "name": "stdout",
          "text": [
            "Using device: cuda\n"
          ]
        }
      ]
    },
    {
      "cell_type": "code",
      "source": [
        "class Trans(nn.Module):\n",
        "  def __init__(self, input_size, hidden_size, output_size, layers, nhead, dropout = .1):\n",
        "    super(Trans, self).__init__()\n",
        "    self.embedding = nn.Embedding(input_size, hidden_size)\n",
        "    self.embeddingtarget = nn.Embedding(output_size, hidden_size)\n",
        "    self.transformer = nn.Transformer(hidden_size, nhead, layers, dim_feedforward=hidden_size * 4, dropout = .1)\n",
        "    self.fc = nn.Linear(hidden_size, output_size)\n",
        "\n",
        "  def forward(self, src, target):\n",
        "      srcembedded = self.embedding(src)\n",
        "      targetembedded = self.embeddingtarget(target)\n",
        "      srcembedded = srcembedded.permute(1, 0, 2)\n",
        "      targetembedded = targetembedded.permute(1, 0, 2)\n",
        "      output = self.transformer(srcembedded, targetembedded)\n",
        "      output = self.fc(output)\n",
        "      return self.softmax(output)\n",
        "\n",
        "  def generate_padding_mask(self, sequence):\n",
        "        mask = (sequence == word2idx[\"EOS\"])\n",
        "        return mask\n",
        "\n",
        "  def generate_subsequent_mask(self, sequence):\n",
        "        mask = (torch.triu(torch.ones(sequence.size(1), sequence.size(1))) == 1).transpose(0, 1)\n",
        "        mask = mask.float().masked_fill(mask == 0, float('-inf')).masked_fill(mask == 1, float(0.0))\n",
        "        return mask"
      ],
      "metadata": {
        "id": "wKmOC4QM-sEe"
      },
      "execution_count": null,
      "outputs": []
    },
    {
      "cell_type": "code",
      "source": [
        "input_size = len(word2idx)\n",
        "output_size = len(word2idx)\n",
        "hidden_size = 128\n",
        "layers = 3\n",
        "nhead = 2\n",
        "lr = .005\n",
        "epochs = 100"
      ],
      "metadata": {
        "id": "weJUYsQdHCPs"
      },
      "execution_count": null,
      "outputs": []
    },
    {
      "cell_type": "code",
      "source": [
        "model = Trans(len(word2idx), hidden_size, len(word2idx), layers, nhead).to(device)\n",
        "criterion = nn.CrossEntropyLoss()\n",
        "optimizer = torch.optim.Adam(model.parameters(), lr = lr)"
      ],
      "metadata": {
        "colab": {
          "base_uri": "https://localhost:8080/",
          "height": 443
        },
        "id": "z8mZlOvOE1km",
        "outputId": "936094ad-d660-4518-e1c1-804f9fc127bb"
      },
      "execution_count": null,
      "outputs": [
        {
          "output_type": "error",
          "ename": "RuntimeError",
          "evalue": "CUDA error: device-side assert triggered\nCUDA kernel errors might be asynchronously reported at some other API call, so the stacktrace below might be incorrect.\nFor debugging consider passing CUDA_LAUNCH_BLOCKING=1.\nCompile with `TORCH_USE_CUDA_DSA` to enable device-side assertions.\n",
          "traceback": [
            "\u001b[0;31m---------------------------------------------------------------------------\u001b[0m",
            "\u001b[0;31mRuntimeError\u001b[0m                              Traceback (most recent call last)",
            "\u001b[0;32m<ipython-input-53-524fbe4247c0>\u001b[0m in \u001b[0;36m<cell line: 1>\u001b[0;34m()\u001b[0m\n\u001b[0;32m----> 1\u001b[0;31m \u001b[0mmodel\u001b[0m \u001b[0;34m=\u001b[0m \u001b[0mTrans\u001b[0m\u001b[0;34m(\u001b[0m\u001b[0mlen\u001b[0m\u001b[0;34m(\u001b[0m\u001b[0mword2idx\u001b[0m\u001b[0;34m)\u001b[0m\u001b[0;34m,\u001b[0m \u001b[0mhidden_size\u001b[0m\u001b[0;34m,\u001b[0m \u001b[0mlen\u001b[0m\u001b[0;34m(\u001b[0m\u001b[0mword2idx\u001b[0m\u001b[0;34m)\u001b[0m\u001b[0;34m,\u001b[0m \u001b[0mlayers\u001b[0m\u001b[0;34m,\u001b[0m \u001b[0mnhead\u001b[0m\u001b[0;34m)\u001b[0m\u001b[0;34m.\u001b[0m\u001b[0mto\u001b[0m\u001b[0;34m(\u001b[0m\u001b[0mdevice\u001b[0m\u001b[0;34m)\u001b[0m\u001b[0;34m\u001b[0m\u001b[0;34m\u001b[0m\u001b[0m\n\u001b[0m\u001b[1;32m      2\u001b[0m \u001b[0mcriterion\u001b[0m \u001b[0;34m=\u001b[0m \u001b[0mnn\u001b[0m\u001b[0;34m.\u001b[0m\u001b[0mCrossEntropyLoss\u001b[0m\u001b[0;34m(\u001b[0m\u001b[0;34m)\u001b[0m\u001b[0;34m\u001b[0m\u001b[0;34m\u001b[0m\u001b[0m\n\u001b[1;32m      3\u001b[0m \u001b[0moptimizer\u001b[0m \u001b[0;34m=\u001b[0m \u001b[0mtorch\u001b[0m\u001b[0;34m.\u001b[0m\u001b[0moptim\u001b[0m\u001b[0;34m.\u001b[0m\u001b[0mAdam\u001b[0m\u001b[0;34m(\u001b[0m\u001b[0mmodel\u001b[0m\u001b[0;34m.\u001b[0m\u001b[0mparameters\u001b[0m\u001b[0;34m(\u001b[0m\u001b[0;34m)\u001b[0m\u001b[0;34m,\u001b[0m \u001b[0mlr\u001b[0m \u001b[0;34m=\u001b[0m \u001b[0mlr\u001b[0m\u001b[0;34m)\u001b[0m\u001b[0;34m\u001b[0m\u001b[0;34m\u001b[0m\u001b[0m\n",
            "\u001b[0;32m/usr/local/lib/python3.10/dist-packages/torch/nn/modules/module.py\u001b[0m in \u001b[0;36mto\u001b[0;34m(self, *args, **kwargs)\u001b[0m\n\u001b[1;32m   1150\u001b[0m             \u001b[0;32mreturn\u001b[0m \u001b[0mt\u001b[0m\u001b[0;34m.\u001b[0m\u001b[0mto\u001b[0m\u001b[0;34m(\u001b[0m\u001b[0mdevice\u001b[0m\u001b[0;34m,\u001b[0m \u001b[0mdtype\u001b[0m \u001b[0;32mif\u001b[0m \u001b[0mt\u001b[0m\u001b[0;34m.\u001b[0m\u001b[0mis_floating_point\u001b[0m\u001b[0;34m(\u001b[0m\u001b[0;34m)\u001b[0m \u001b[0;32mor\u001b[0m \u001b[0mt\u001b[0m\u001b[0;34m.\u001b[0m\u001b[0mis_complex\u001b[0m\u001b[0;34m(\u001b[0m\u001b[0;34m)\u001b[0m \u001b[0;32melse\u001b[0m \u001b[0;32mNone\u001b[0m\u001b[0;34m,\u001b[0m \u001b[0mnon_blocking\u001b[0m\u001b[0;34m)\u001b[0m\u001b[0;34m\u001b[0m\u001b[0;34m\u001b[0m\u001b[0m\n\u001b[1;32m   1151\u001b[0m \u001b[0;34m\u001b[0m\u001b[0m\n\u001b[0;32m-> 1152\u001b[0;31m         \u001b[0;32mreturn\u001b[0m \u001b[0mself\u001b[0m\u001b[0;34m.\u001b[0m\u001b[0m_apply\u001b[0m\u001b[0;34m(\u001b[0m\u001b[0mconvert\u001b[0m\u001b[0;34m)\u001b[0m\u001b[0;34m\u001b[0m\u001b[0;34m\u001b[0m\u001b[0m\n\u001b[0m\u001b[1;32m   1153\u001b[0m \u001b[0;34m\u001b[0m\u001b[0m\n\u001b[1;32m   1154\u001b[0m     def register_full_backward_pre_hook(\n",
            "\u001b[0;32m/usr/local/lib/python3.10/dist-packages/torch/nn/modules/module.py\u001b[0m in \u001b[0;36m_apply\u001b[0;34m(self, fn, recurse)\u001b[0m\n\u001b[1;32m    800\u001b[0m         \u001b[0;32mif\u001b[0m \u001b[0mrecurse\u001b[0m\u001b[0;34m:\u001b[0m\u001b[0;34m\u001b[0m\u001b[0;34m\u001b[0m\u001b[0m\n\u001b[1;32m    801\u001b[0m             \u001b[0;32mfor\u001b[0m \u001b[0mmodule\u001b[0m \u001b[0;32min\u001b[0m \u001b[0mself\u001b[0m\u001b[0;34m.\u001b[0m\u001b[0mchildren\u001b[0m\u001b[0;34m(\u001b[0m\u001b[0;34m)\u001b[0m\u001b[0;34m:\u001b[0m\u001b[0;34m\u001b[0m\u001b[0;34m\u001b[0m\u001b[0m\n\u001b[0;32m--> 802\u001b[0;31m                 \u001b[0mmodule\u001b[0m\u001b[0;34m.\u001b[0m\u001b[0m_apply\u001b[0m\u001b[0;34m(\u001b[0m\u001b[0mfn\u001b[0m\u001b[0;34m)\u001b[0m\u001b[0;34m\u001b[0m\u001b[0;34m\u001b[0m\u001b[0m\n\u001b[0m\u001b[1;32m    803\u001b[0m \u001b[0;34m\u001b[0m\u001b[0m\n\u001b[1;32m    804\u001b[0m         \u001b[0;32mdef\u001b[0m \u001b[0mcompute_should_use_set_data\u001b[0m\u001b[0;34m(\u001b[0m\u001b[0mtensor\u001b[0m\u001b[0;34m,\u001b[0m \u001b[0mtensor_applied\u001b[0m\u001b[0;34m)\u001b[0m\u001b[0;34m:\u001b[0m\u001b[0;34m\u001b[0m\u001b[0;34m\u001b[0m\u001b[0m\n",
            "\u001b[0;32m/usr/local/lib/python3.10/dist-packages/torch/nn/modules/module.py\u001b[0m in \u001b[0;36m_apply\u001b[0;34m(self, fn, recurse)\u001b[0m\n\u001b[1;32m    823\u001b[0m             \u001b[0;31m# `with torch.no_grad():`\u001b[0m\u001b[0;34m\u001b[0m\u001b[0;34m\u001b[0m\u001b[0m\n\u001b[1;32m    824\u001b[0m             \u001b[0;32mwith\u001b[0m \u001b[0mtorch\u001b[0m\u001b[0;34m.\u001b[0m\u001b[0mno_grad\u001b[0m\u001b[0;34m(\u001b[0m\u001b[0;34m)\u001b[0m\u001b[0;34m:\u001b[0m\u001b[0;34m\u001b[0m\u001b[0;34m\u001b[0m\u001b[0m\n\u001b[0;32m--> 825\u001b[0;31m                 \u001b[0mparam_applied\u001b[0m \u001b[0;34m=\u001b[0m \u001b[0mfn\u001b[0m\u001b[0;34m(\u001b[0m\u001b[0mparam\u001b[0m\u001b[0;34m)\u001b[0m\u001b[0;34m\u001b[0m\u001b[0;34m\u001b[0m\u001b[0m\n\u001b[0m\u001b[1;32m    826\u001b[0m             \u001b[0mshould_use_set_data\u001b[0m \u001b[0;34m=\u001b[0m \u001b[0mcompute_should_use_set_data\u001b[0m\u001b[0;34m(\u001b[0m\u001b[0mparam\u001b[0m\u001b[0;34m,\u001b[0m \u001b[0mparam_applied\u001b[0m\u001b[0;34m)\u001b[0m\u001b[0;34m\u001b[0m\u001b[0;34m\u001b[0m\u001b[0m\n\u001b[1;32m    827\u001b[0m             \u001b[0;32mif\u001b[0m \u001b[0mshould_use_set_data\u001b[0m\u001b[0;34m:\u001b[0m\u001b[0;34m\u001b[0m\u001b[0;34m\u001b[0m\u001b[0m\n",
            "\u001b[0;32m/usr/local/lib/python3.10/dist-packages/torch/nn/modules/module.py\u001b[0m in \u001b[0;36mconvert\u001b[0;34m(t)\u001b[0m\n\u001b[1;32m   1148\u001b[0m                 return t.to(device, dtype if t.is_floating_point() or t.is_complex() else None,\n\u001b[1;32m   1149\u001b[0m                             non_blocking, memory_format=convert_to_format)\n\u001b[0;32m-> 1150\u001b[0;31m             \u001b[0;32mreturn\u001b[0m \u001b[0mt\u001b[0m\u001b[0;34m.\u001b[0m\u001b[0mto\u001b[0m\u001b[0;34m(\u001b[0m\u001b[0mdevice\u001b[0m\u001b[0;34m,\u001b[0m \u001b[0mdtype\u001b[0m \u001b[0;32mif\u001b[0m \u001b[0mt\u001b[0m\u001b[0;34m.\u001b[0m\u001b[0mis_floating_point\u001b[0m\u001b[0;34m(\u001b[0m\u001b[0;34m)\u001b[0m \u001b[0;32mor\u001b[0m \u001b[0mt\u001b[0m\u001b[0;34m.\u001b[0m\u001b[0mis_complex\u001b[0m\u001b[0;34m(\u001b[0m\u001b[0;34m)\u001b[0m \u001b[0;32melse\u001b[0m \u001b[0;32mNone\u001b[0m\u001b[0;34m,\u001b[0m \u001b[0mnon_blocking\u001b[0m\u001b[0;34m)\u001b[0m\u001b[0;34m\u001b[0m\u001b[0;34m\u001b[0m\u001b[0m\n\u001b[0m\u001b[1;32m   1151\u001b[0m \u001b[0;34m\u001b[0m\u001b[0m\n\u001b[1;32m   1152\u001b[0m         \u001b[0;32mreturn\u001b[0m \u001b[0mself\u001b[0m\u001b[0;34m.\u001b[0m\u001b[0m_apply\u001b[0m\u001b[0;34m(\u001b[0m\u001b[0mconvert\u001b[0m\u001b[0;34m)\u001b[0m\u001b[0;34m\u001b[0m\u001b[0;34m\u001b[0m\u001b[0m\n",
            "\u001b[0;31mRuntimeError\u001b[0m: CUDA error: device-side assert triggered\nCUDA kernel errors might be asynchronously reported at some other API call, so the stacktrace below might be incorrect.\nFor debugging consider passing CUDA_LAUNCH_BLOCKING=1.\nCompile with `TORCH_USE_CUDA_DSA` to enable device-side assertions.\n"
          ]
        }
      ]
    },
    {
      "cell_type": "code",
      "source": [
        "def train_loop(model, dataloader, optimizer, criterion, epochs):\n",
        "  for epoch in range(epochs):\n",
        "    losses = 0\n",
        "    corrects = 0\n",
        "    exs = 0\n",
        "    model.train()\n",
        "    for src, target in dataloader:\n",
        "      src = src.to(device)\n",
        "      target = target.to(device)\n",
        "      optimizer.zero_grad()\n",
        "      output = model(src, target[:, :-1])\n",
        "      outputdim = output.shape[-1]\n",
        "      output = output[:, 1:].contiguous().view(-1, outputdim)\n",
        "      target = target[:, 1:].contiguous().view(-1)\n",
        "      loss = criterion(output, target)\n",
        "      loss.backward()\n",
        "      optimizer.step()\n",
        "      losses += loss.item()\n",
        "      corrects += (output.argmax(1) == target).sum().item()\n",
        "      exs += output.shape[0]\n",
        "\n",
        "    lossvg = losses / len(dataloader)\n",
        "    accuracy = corrects/exs\n",
        "    print(f\"Epoch {epoch+1}: Loss {lossvg:.4f}, Accuracy {accuracy:.4f}\")"
      ],
      "metadata": {
        "id": "mU9u225PE8RB"
      },
      "execution_count": null,
      "outputs": []
    },
    {
      "cell_type": "code",
      "source": [
        "model = Trans(input_size, output_size, hidden_size, layers, nhead).to(device)\n",
        "criterion = nn.CrossEntropyLoss()\n",
        "optimizer = torch.optim.Adam(model.parameters(), lr = lr)\n",
        "\n",
        "epochs = 10\n",
        "train_loop(model, dataloader, optimizer, criterion, epochs)"
      ],
      "metadata": {
        "id": "ypL_dolVG5PO"
      },
      "execution_count": null,
      "outputs": []
    },
    {
      "cell_type": "code",
      "source": [],
      "metadata": {
        "id": "KsYnqX-oHQsw"
      },
      "execution_count": null,
      "outputs": []
    }
  ]
}